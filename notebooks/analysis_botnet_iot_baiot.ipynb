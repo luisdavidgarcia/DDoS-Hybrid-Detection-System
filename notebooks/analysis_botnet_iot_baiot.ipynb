{
 "cells": [
  {
   "cell_type": "code",
   "execution_count": 2,
   "id": "19ead147-4121-4a84-8f15-bf2d5d39cab6",
   "metadata": {},
   "outputs": [],
   "source": [
    "import os\n",
    "import pandas as pd"
   ]
  },
  {
   "cell_type": "code",
   "execution_count": 3,
   "id": "975f801e-71cd-404f-8dca-8f9c4f311656",
   "metadata": {},
   "outputs": [
    {
     "name": "stdout",
     "output_type": "stream",
     "text": [
      "IoT Botnet BAIT Shape: (175240, 115)\n"
     ]
    }
   ],
   "source": [
    "datasets_path = os.path.join(os.getcwd(), '..', 'datasets')\n",
    "\n",
    "# Load IoT Botnet BAIT dataset\n",
    "iot_path = os.path.join(datasets_path, 'detection_of_iot_botnet_attacks_n_baiot', 'Philips_B120N10_Baby_Monitor/benign_traffic.csv')\n",
    "iot_df = pd.read_csv(iot_path)\n",
    "\n",
    "# Perform comparisons or combined analyses\n",
    "print(\"IoT Botnet BAIT Shape:\", iot_df.shape)\n",
    "# Add more analysis as needed"
   ]
  }
 ],
 "metadata": {
  "kernelspec": {
   "display_name": "Python 3 (ipykernel)",
   "language": "python",
   "name": "python3"
  },
  "language_info": {
   "codemirror_mode": {
    "name": "ipython",
    "version": 3
   },
   "file_extension": ".py",
   "mimetype": "text/x-python",
   "name": "python",
   "nbconvert_exporter": "python",
   "pygments_lexer": "ipython3",
   "version": "3.10.8"
  }
 },
 "nbformat": 4,
 "nbformat_minor": 5
}
