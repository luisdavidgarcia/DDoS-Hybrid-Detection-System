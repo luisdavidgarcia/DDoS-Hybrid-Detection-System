{
 "cells": [
  {
   "cell_type": "markdown",
   "metadata": {},
   "source": [
    "# Binary Classification of NSL-KDD Dataset"
   ]
  },
  {
   "cell_type": "code",
   "execution_count": 1,
   "metadata": {},
   "outputs": [],
   "source": [
    "# For getting paths\n",
    "import os\n",
    "\n",
    "# For data manipulation and preprocessing\n",
    "import pandas as pd\n",
    "import numpy as np\n",
    "from sklearn.preprocessing import StandardScaler, LabelEncoder\n",
    "\n",
    "# For feature engineering\n",
    "from sklearn.feature_selection import SelectKBest, mutual_info_classif\n",
    "\n",
    "# For model building\n",
    "from xgboost import XGBClassifier\n",
    "from sklearn.linear_model import LogisticRegression\n",
    "from sklearn.tree import DecisionTreeClassifier\n",
    "from sklearn.ensemble import RandomForestClassifier\n",
    "\n",
    "# For model evaluation\n",
    "from sklearn.metrics import confusion_matrix, f1_score, recall_score, precision_score, accuracy_score, classification_report\n",
    "\n",
    "# For plotting\n",
    "import matplotlib.pyplot as plt\n",
    "import seaborn as sns\n",
    "\n",
    "# For timing\n",
    "import time\n",
    "\n",
    "# Tensorflow and Keras\n",
    "import tensorflow as tf\n",
    "import time"
   ]
  },
  {
   "cell_type": "markdown",
   "metadata": {},
   "source": [
    "## Dataset Visualization and Preprocessing"
   ]
  },
  {
   "cell_type": "code",
   "execution_count": 13,
   "metadata": {},
   "outputs": [],
   "source": [
    "# Column Labels\n",
    "columns = (['duration'\n",
    ",'protocol_type'\n",
    ",'service'\n",
    ",'flag'\n",
    ",'src_bytes'\n",
    ",'dst_bytes'\n",
    ",'land'\n",
    ",'wrong_fragment'\n",
    ",'urgent'\n",
    ",'hot'\n",
    ",'num_failed_logins'\n",
    ",'logged_in'\n",
    ",'num_compromised'\n",
    ",'root_shell'\n",
    ",'su_attempted'\n",
    ",'num_root'\n",
    ",'num_file_creations'\n",
    ",'num_shells'\n",
    ",'num_access_files'\n",
    ",'num_outbound_cmds'\n",
    ",'is_host_login'\n",
    ",'is_guest_login'\n",
    ",'count'\n",
    ",'srv_count'\n",
    ",'serror_rate'\n",
    ",'srv_serror_rate'\n",
    ",'rerror_rate'\n",
    ",'srv_rerror_rate'\n",
    ",'same_srv_rate'\n",
    ",'diff_srv_rate'\n",
    ",'srv_diff_host_rate'\n",
    ",'dst_host_count'\n",
    ",'dst_host_srv_count'\n",
    ",'dst_host_same_srv_rate'\n",
    ",'dst_host_diff_srv_rate'\n",
    ",'dst_host_same_src_port_rate'\n",
    ",'dst_host_srv_diff_host_rate'\n",
    ",'dst_host_serror_rate'\n",
    ",'dst_host_srv_serror_rate'\n",
    ",'dst_host_rerror_rate'\n",
    ",'dst_host_srv_rerror_rate'\n",
    ",'attack'\n",
    ",'level'])\n",
    "\n",
    "# Datasets\n",
    "train_path = \"../datasets/nsl-kdd/KDDTrain+.txt\"\n",
    "test_path = \"../datasets/nsl-kdd/KDDTest+.txt\"\n",
    "\n",
    "df_train=pd.read_csv(train_path,header=None,names=columns)\n",
    "df_test=pd.read_csv(test_path,header=None,names=columns)"
   ]
  },
  {
   "cell_type": "code",
   "execution_count": 14,
   "metadata": {},
   "outputs": [
    {
     "name": "stdout",
     "output_type": "stream",
     "text": [
      "(125973, 43)\n",
      "--------------------\n",
      "   duration protocol_type   service flag  src_bytes  dst_bytes  land  \\\n",
      "0         0           tcp  ftp_data   SF        491          0     0   \n",
      "1         0           udp     other   SF        146          0     0   \n",
      "2         0           tcp   private   S0          0          0     0   \n",
      "3         0           tcp      http   SF        232       8153     0   \n",
      "4         0           tcp      http   SF        199        420     0   \n",
      "\n",
      "   wrong_fragment  urgent  hot  ...  dst_host_same_srv_rate  \\\n",
      "0               0       0    0  ...                    0.17   \n",
      "1               0       0    0  ...                    0.00   \n",
      "2               0       0    0  ...                    0.10   \n",
      "3               0       0    0  ...                    1.00   \n",
      "4               0       0    0  ...                    1.00   \n",
      "\n",
      "   dst_host_diff_srv_rate  dst_host_same_src_port_rate  \\\n",
      "0                    0.03                         0.17   \n",
      "1                    0.60                         0.88   \n",
      "2                    0.05                         0.00   \n",
      "3                    0.00                         0.03   \n",
      "4                    0.00                         0.00   \n",
      "\n",
      "   dst_host_srv_diff_host_rate  dst_host_serror_rate  \\\n",
      "0                         0.00                  0.00   \n",
      "1                         0.00                  0.00   \n",
      "2                         0.00                  1.00   \n",
      "3                         0.04                  0.03   \n",
      "4                         0.00                  0.00   \n",
      "\n",
      "   dst_host_srv_serror_rate  dst_host_rerror_rate  dst_host_srv_rerror_rate  \\\n",
      "0                      0.00                  0.05                      0.00   \n",
      "1                      0.00                  0.00                      0.00   \n",
      "2                      1.00                  0.00                      0.00   \n",
      "3                      0.01                  0.00                      0.01   \n",
      "4                      0.00                  0.00                      0.00   \n",
      "\n",
      "    attack  level  \n",
      "0   normal     20  \n",
      "1   normal     15  \n",
      "2  neptune     19  \n",
      "3   normal     21  \n",
      "4   normal     21  \n",
      "\n",
      "[5 rows x 43 columns]\n",
      "--------------------\n",
      "<class 'pandas.core.frame.DataFrame'>\n",
      "RangeIndex: 125973 entries, 0 to 125972\n",
      "Data columns (total 43 columns):\n",
      " #   Column                       Non-Null Count   Dtype  \n",
      "---  ------                       --------------   -----  \n",
      " 0   duration                     125973 non-null  int64  \n",
      " 1   protocol_type                125973 non-null  object \n",
      " 2   service                      125973 non-null  object \n",
      " 3   flag                         125973 non-null  object \n",
      " 4   src_bytes                    125973 non-null  int64  \n",
      " 5   dst_bytes                    125973 non-null  int64  \n",
      " 6   land                         125973 non-null  int64  \n",
      " 7   wrong_fragment               125973 non-null  int64  \n",
      " 8   urgent                       125973 non-null  int64  \n",
      " 9   hot                          125973 non-null  int64  \n",
      " 10  num_failed_logins            125973 non-null  int64  \n",
      " 11  logged_in                    125973 non-null  int64  \n",
      " 12  num_compromised              125973 non-null  int64  \n",
      " 13  root_shell                   125973 non-null  int64  \n",
      " 14  su_attempted                 125973 non-null  int64  \n",
      " 15  num_root                     125973 non-null  int64  \n",
      " 16  num_file_creations           125973 non-null  int64  \n",
      " 17  num_shells                   125973 non-null  int64  \n",
      " 18  num_access_files             125973 non-null  int64  \n",
      " 19  num_outbound_cmds            125973 non-null  int64  \n",
      " 20  is_host_login                125973 non-null  int64  \n",
      " 21  is_guest_login               125973 non-null  int64  \n",
      " 22  count                        125973 non-null  int64  \n",
      " 23  srv_count                    125973 non-null  int64  \n",
      " 24  serror_rate                  125973 non-null  float64\n",
      " 25  srv_serror_rate              125973 non-null  float64\n",
      " 26  rerror_rate                  125973 non-null  float64\n",
      " 27  srv_rerror_rate              125973 non-null  float64\n",
      " 28  same_srv_rate                125973 non-null  float64\n",
      " 29  diff_srv_rate                125973 non-null  float64\n",
      " 30  srv_diff_host_rate           125973 non-null  float64\n",
      " 31  dst_host_count               125973 non-null  int64  \n",
      " 32  dst_host_srv_count           125973 non-null  int64  \n",
      " 33  dst_host_same_srv_rate       125973 non-null  float64\n",
      " 34  dst_host_diff_srv_rate       125973 non-null  float64\n",
      " 35  dst_host_same_src_port_rate  125973 non-null  float64\n",
      " 36  dst_host_srv_diff_host_rate  125973 non-null  float64\n",
      " 37  dst_host_serror_rate         125973 non-null  float64\n",
      " 38  dst_host_srv_serror_rate     125973 non-null  float64\n",
      " 39  dst_host_rerror_rate         125973 non-null  float64\n",
      " 40  dst_host_srv_rerror_rate     125973 non-null  float64\n",
      " 41  attack                       125973 non-null  object \n",
      " 42  level                        125973 non-null  int64  \n",
      "dtypes: float64(15), int64(24), object(4)\n",
      "memory usage: 41.3+ MB\n",
      "None\n"
     ]
    }
   ],
   "source": [
    "# Training Set Preview\n",
    "print(df_train.shape)\n",
    "print(\"--------------------\")\n",
    "print(df_train.head())\n",
    "print(\"--------------------\")\n",
    "print(df_train.info())"
   ]
  },
  {
   "cell_type": "code",
   "execution_count": 15,
   "metadata": {},
   "outputs": [
    {
     "name": "stdout",
     "output_type": "stream",
     "text": [
      "(22544, 43)\n",
      "--------------------\n",
      "   duration protocol_type   service  flag  src_bytes  dst_bytes  land  \\\n",
      "0         0           tcp   private   REJ          0          0     0   \n",
      "1         0           tcp   private   REJ          0          0     0   \n",
      "2         2           tcp  ftp_data    SF      12983          0     0   \n",
      "3         0          icmp     eco_i    SF         20          0     0   \n",
      "4         1           tcp    telnet  RSTO          0         15     0   \n",
      "\n",
      "   wrong_fragment  urgent  hot  ...  dst_host_same_srv_rate  \\\n",
      "0               0       0    0  ...                    0.04   \n",
      "1               0       0    0  ...                    0.00   \n",
      "2               0       0    0  ...                    0.61   \n",
      "3               0       0    0  ...                    1.00   \n",
      "4               0       0    0  ...                    0.31   \n",
      "\n",
      "   dst_host_diff_srv_rate  dst_host_same_src_port_rate  \\\n",
      "0                    0.06                         0.00   \n",
      "1                    0.06                         0.00   \n",
      "2                    0.04                         0.61   \n",
      "3                    0.00                         1.00   \n",
      "4                    0.17                         0.03   \n",
      "\n",
      "   dst_host_srv_diff_host_rate  dst_host_serror_rate  \\\n",
      "0                         0.00                   0.0   \n",
      "1                         0.00                   0.0   \n",
      "2                         0.02                   0.0   \n",
      "3                         0.28                   0.0   \n",
      "4                         0.02                   0.0   \n",
      "\n",
      "   dst_host_srv_serror_rate  dst_host_rerror_rate  dst_host_srv_rerror_rate  \\\n",
      "0                       0.0                  1.00                      1.00   \n",
      "1                       0.0                  1.00                      1.00   \n",
      "2                       0.0                  0.00                      0.00   \n",
      "3                       0.0                  0.00                      0.00   \n",
      "4                       0.0                  0.83                      0.71   \n",
      "\n",
      "    attack  level  \n",
      "0  neptune     21  \n",
      "1  neptune     21  \n",
      "2   normal     21  \n",
      "3    saint     15  \n",
      "4    mscan     11  \n",
      "\n",
      "[5 rows x 43 columns]\n",
      "--------------------\n",
      "<class 'pandas.core.frame.DataFrame'>\n",
      "RangeIndex: 22544 entries, 0 to 22543\n",
      "Data columns (total 43 columns):\n",
      " #   Column                       Non-Null Count  Dtype  \n",
      "---  ------                       --------------  -----  \n",
      " 0   duration                     22544 non-null  int64  \n",
      " 1   protocol_type                22544 non-null  object \n",
      " 2   service                      22544 non-null  object \n",
      " 3   flag                         22544 non-null  object \n",
      " 4   src_bytes                    22544 non-null  int64  \n",
      " 5   dst_bytes                    22544 non-null  int64  \n",
      " 6   land                         22544 non-null  int64  \n",
      " 7   wrong_fragment               22544 non-null  int64  \n",
      " 8   urgent                       22544 non-null  int64  \n",
      " 9   hot                          22544 non-null  int64  \n",
      " 10  num_failed_logins            22544 non-null  int64  \n",
      " 11  logged_in                    22544 non-null  int64  \n",
      " 12  num_compromised              22544 non-null  int64  \n",
      " 13  root_shell                   22544 non-null  int64  \n",
      " 14  su_attempted                 22544 non-null  int64  \n",
      " 15  num_root                     22544 non-null  int64  \n",
      " 16  num_file_creations           22544 non-null  int64  \n",
      " 17  num_shells                   22544 non-null  int64  \n",
      " 18  num_access_files             22544 non-null  int64  \n",
      " 19  num_outbound_cmds            22544 non-null  int64  \n",
      " 20  is_host_login                22544 non-null  int64  \n",
      " 21  is_guest_login               22544 non-null  int64  \n",
      " 22  count                        22544 non-null  int64  \n",
      " 23  srv_count                    22544 non-null  int64  \n",
      " 24  serror_rate                  22544 non-null  float64\n",
      " 25  srv_serror_rate              22544 non-null  float64\n",
      " 26  rerror_rate                  22544 non-null  float64\n",
      " 27  srv_rerror_rate              22544 non-null  float64\n",
      " 28  same_srv_rate                22544 non-null  float64\n",
      " 29  diff_srv_rate                22544 non-null  float64\n",
      " 30  srv_diff_host_rate           22544 non-null  float64\n",
      " 31  dst_host_count               22544 non-null  int64  \n",
      " 32  dst_host_srv_count           22544 non-null  int64  \n",
      " 33  dst_host_same_srv_rate       22544 non-null  float64\n",
      " 34  dst_host_diff_srv_rate       22544 non-null  float64\n",
      " 35  dst_host_same_src_port_rate  22544 non-null  float64\n",
      " 36  dst_host_srv_diff_host_rate  22544 non-null  float64\n",
      " 37  dst_host_serror_rate         22544 non-null  float64\n",
      " 38  dst_host_srv_serror_rate     22544 non-null  float64\n",
      " 39  dst_host_rerror_rate         22544 non-null  float64\n",
      " 40  dst_host_srv_rerror_rate     22544 non-null  float64\n",
      " 41  attack                       22544 non-null  object \n",
      " 42  level                        22544 non-null  int64  \n",
      "dtypes: float64(15), int64(24), object(4)\n",
      "memory usage: 7.4+ MB\n",
      "None\n"
     ]
    }
   ],
   "source": [
    "# Testing Set Preview\n",
    "print(df_test.shape)\n",
    "print(\"--------------------\")\n",
    "print(df_test.head())\n",
    "print(\"--------------------\")\n",
    "print(df_test.info())"
   ]
  },
  {
   "cell_type": "code",
   "execution_count": 16,
   "metadata": {},
   "outputs": [
    {
     "name": "stdout",
     "output_type": "stream",
     "text": [
      "Duplicates in Train:  0\n",
      "Duplicates in Test:  0\n",
      "-----------------------------------\n",
      "Rows with missing values - train:  duration                       0\n",
      "protocol_type                  0\n",
      "service                        0\n",
      "flag                           0\n",
      "src_bytes                      0\n",
      "dst_bytes                      0\n",
      "land                           0\n",
      "wrong_fragment                 0\n",
      "urgent                         0\n",
      "hot                            0\n",
      "num_failed_logins              0\n",
      "logged_in                      0\n",
      "num_compromised                0\n",
      "root_shell                     0\n",
      "su_attempted                   0\n",
      "num_root                       0\n",
      "num_file_creations             0\n",
      "num_shells                     0\n",
      "num_access_files               0\n",
      "num_outbound_cmds              0\n",
      "is_host_login                  0\n",
      "is_guest_login                 0\n",
      "count                          0\n",
      "srv_count                      0\n",
      "serror_rate                    0\n",
      "srv_serror_rate                0\n",
      "rerror_rate                    0\n",
      "srv_rerror_rate                0\n",
      "same_srv_rate                  0\n",
      "diff_srv_rate                  0\n",
      "srv_diff_host_rate             0\n",
      "dst_host_count                 0\n",
      "dst_host_srv_count             0\n",
      "dst_host_same_srv_rate         0\n",
      "dst_host_diff_srv_rate         0\n",
      "dst_host_same_src_port_rate    0\n",
      "dst_host_srv_diff_host_rate    0\n",
      "dst_host_serror_rate           0\n",
      "dst_host_srv_serror_rate       0\n",
      "dst_host_rerror_rate           0\n",
      "dst_host_srv_rerror_rate       0\n",
      "attack                         0\n",
      "level                          0\n",
      "dtype: int64\n",
      "-----------------------------------\n",
      "Rows with missing values - test:  duration                       0\n",
      "protocol_type                  0\n",
      "service                        0\n",
      "flag                           0\n",
      "src_bytes                      0\n",
      "dst_bytes                      0\n",
      "land                           0\n",
      "wrong_fragment                 0\n",
      "urgent                         0\n",
      "hot                            0\n",
      "num_failed_logins              0\n",
      "logged_in                      0\n",
      "num_compromised                0\n",
      "root_shell                     0\n",
      "su_attempted                   0\n",
      "num_root                       0\n",
      "num_file_creations             0\n",
      "num_shells                     0\n",
      "num_access_files               0\n",
      "num_outbound_cmds              0\n",
      "is_host_login                  0\n",
      "is_guest_login                 0\n",
      "count                          0\n",
      "srv_count                      0\n",
      "serror_rate                    0\n",
      "srv_serror_rate                0\n",
      "rerror_rate                    0\n",
      "srv_rerror_rate                0\n",
      "same_srv_rate                  0\n",
      "diff_srv_rate                  0\n",
      "srv_diff_host_rate             0\n",
      "dst_host_count                 0\n",
      "dst_host_srv_count             0\n",
      "dst_host_same_srv_rate         0\n",
      "dst_host_diff_srv_rate         0\n",
      "dst_host_same_src_port_rate    0\n",
      "dst_host_srv_diff_host_rate    0\n",
      "dst_host_serror_rate           0\n",
      "dst_host_srv_serror_rate       0\n",
      "dst_host_rerror_rate           0\n",
      "dst_host_srv_rerror_rate       0\n",
      "attack                         0\n",
      "level                          0\n",
      "dtype: int64\n"
     ]
    }
   ],
   "source": [
    "# Check for duplicates\n",
    "print(\"Duplicates in Train: \", df_train.duplicated().sum())\n",
    "print(\"Duplicates in Test: \", df_test.duplicated().sum())\n",
    "\n",
    "# Check for missing values\n",
    "print(\"-----------------------------------\")\n",
    "print(\"Rows with missing values - train: \", df_train.isnull().sum())\n",
    "print(\"-----------------------------------\")\n",
    "print(\"Rows with missing values - test: \", df_test.isnull().sum())"
   ]
  },
  {
   "cell_type": "code",
   "execution_count": 17,
   "metadata": {},
   "outputs": [],
   "source": [
    "df_train_binary = df_train.copy()\n",
    "\n",
    "df_train_binary['attack'] = df_train_binary['attack'].apply(\n",
    "    lambda x: 'attack' if x != 'normal' else 'normal'\n",
    ")\n",
    "\n",
    "df_test_binary = df_test.copy()\n",
    "\n",
    "df_test_binary['attack'] = df_test_binary['attack'].apply(\n",
    "    lambda x: 'attack' if x != 'normal' else 'normal'\n",
    ")"
   ]
  },
  {
   "cell_type": "code",
   "execution_count": 18,
   "metadata": {},
   "outputs": [],
   "source": [
    "# Helper function to plot bar labels\n",
    "def add_bar_labels(bars):\n",
    "    # Add counts on top of each bar\n",
    "    for bar in bars:\n",
    "        height = bar.get_height()\n",
    "        plt.text(\n",
    "            bar.get_x() + bar.get_width() / 2,\n",
    "            height,\n",
    "            f'{height}',\n",
    "            ha='center',\n",
    "            va='bottom'\n",
    "        )"
   ]
  },
  {
   "cell_type": "code",
   "execution_count": 19,
   "metadata": {},
   "outputs": [
    {
     "name": "stdout",
     "output_type": "stream",
     "text": [
      "Mapping for protocol_type: {'icmp': 0, 'tcp': 1, 'udp': 2}\n",
      "Mapping for service: {'IRC': 0, 'X11': 1, 'Z39_50': 2, 'aol': 3, 'auth': 4, 'bgp': 5, 'courier': 6, 'csnet_ns': 7, 'ctf': 8, 'daytime': 9, 'discard': 10, 'domain': 11, 'domain_u': 12, 'echo': 13, 'eco_i': 14, 'ecr_i': 15, 'efs': 16, 'exec': 17, 'finger': 18, 'ftp': 19, 'ftp_data': 20, 'gopher': 21, 'harvest': 22, 'hostnames': 23, 'http': 24, 'http_2784': 25, 'http_443': 26, 'http_8001': 27, 'imap4': 28, 'iso_tsap': 29, 'klogin': 30, 'kshell': 31, 'ldap': 32, 'link': 33, 'login': 34, 'mtp': 35, 'name': 36, 'netbios_dgm': 37, 'netbios_ns': 38, 'netbios_ssn': 39, 'netstat': 40, 'nnsp': 41, 'nntp': 42, 'ntp_u': 43, 'other': 44, 'pm_dump': 45, 'pop_2': 46, 'pop_3': 47, 'printer': 48, 'private': 49, 'red_i': 50, 'remote_job': 51, 'rje': 52, 'shell': 53, 'smtp': 54, 'sql_net': 55, 'ssh': 56, 'sunrpc': 57, 'supdup': 58, 'systat': 59, 'telnet': 60, 'tftp_u': 61, 'tim_i': 62, 'time': 63, 'urh_i': 64, 'urp_i': 65, 'uucp': 66, 'uucp_path': 67, 'vmnet': 68, 'whois': 69}\n",
      "Mapping for flag: {'OTH': 0, 'REJ': 1, 'RSTO': 2, 'RSTOS0': 3, 'RSTR': 4, 'S0': 5, 'S1': 6, 'S2': 7, 'S3': 8, 'SF': 9, 'SH': 10}\n",
      "\n",
      "Encoded df_train:\n",
      "        duration  protocol_type  service  flag  src_bytes  dst_bytes  land  \\\n",
      "0              0              1       20     9        491          0     0   \n",
      "1              0              2       44     9        146          0     0   \n",
      "2              0              1       49     5          0          0     0   \n",
      "3              0              1       24     9        232       8153     0   \n",
      "4              0              1       24     9        199        420     0   \n",
      "...          ...            ...      ...   ...        ...        ...   ...   \n",
      "125968         0              1       49     5          0          0     0   \n",
      "125969         8              2       49     9        105        145     0   \n",
      "125970         0              1       54     9       2231        384     0   \n",
      "125971         0              1       30     5          0          0     0   \n",
      "125972         0              1       20     9        151          0     0   \n",
      "\n",
      "        wrong_fragment  urgent  hot  ...  dst_host_same_srv_rate  \\\n",
      "0                    0       0    0  ...                    0.17   \n",
      "1                    0       0    0  ...                    0.00   \n",
      "2                    0       0    0  ...                    0.10   \n",
      "3                    0       0    0  ...                    1.00   \n",
      "4                    0       0    0  ...                    1.00   \n",
      "...                ...     ...  ...  ...                     ...   \n",
      "125968               0       0    0  ...                    0.10   \n",
      "125969               0       0    0  ...                    0.96   \n",
      "125970               0       0    0  ...                    0.12   \n",
      "125971               0       0    0  ...                    0.03   \n",
      "125972               0       0    0  ...                    0.30   \n",
      "\n",
      "        dst_host_diff_srv_rate  dst_host_same_src_port_rate  \\\n",
      "0                         0.03                         0.17   \n",
      "1                         0.60                         0.88   \n",
      "2                         0.05                         0.00   \n",
      "3                         0.00                         0.03   \n",
      "4                         0.00                         0.00   \n",
      "...                        ...                          ...   \n",
      "125968                    0.06                         0.00   \n",
      "125969                    0.01                         0.01   \n",
      "125970                    0.06                         0.00   \n",
      "125971                    0.05                         0.00   \n",
      "125972                    0.03                         0.30   \n",
      "\n",
      "        dst_host_srv_diff_host_rate  dst_host_serror_rate  \\\n",
      "0                              0.00                  0.00   \n",
      "1                              0.00                  0.00   \n",
      "2                              0.00                  1.00   \n",
      "3                              0.04                  0.03   \n",
      "4                              0.00                  0.00   \n",
      "...                             ...                   ...   \n",
      "125968                         0.00                  1.00   \n",
      "125969                         0.00                  0.00   \n",
      "125970                         0.00                  0.72   \n",
      "125971                         0.00                  1.00   \n",
      "125972                         0.00                  0.00   \n",
      "\n",
      "        dst_host_srv_serror_rate  dst_host_rerror_rate  \\\n",
      "0                           0.00                  0.05   \n",
      "1                           0.00                  0.00   \n",
      "2                           1.00                  0.00   \n",
      "3                           0.01                  0.00   \n",
      "4                           0.00                  0.00   \n",
      "...                          ...                   ...   \n",
      "125968                      1.00                  0.00   \n",
      "125969                      0.00                  0.00   \n",
      "125970                      0.00                  0.01   \n",
      "125971                      1.00                  0.00   \n",
      "125972                      0.00                  0.00   \n",
      "\n",
      "        dst_host_srv_rerror_rate  attack  level  \n",
      "0                           0.00       1     20  \n",
      "1                           0.00       1     15  \n",
      "2                           0.00       0     19  \n",
      "3                           0.01       1     21  \n",
      "4                           0.00       1     21  \n",
      "...                          ...     ...    ...  \n",
      "125968                      0.00       0     20  \n",
      "125969                      0.00       1     21  \n",
      "125970                      0.00       1     18  \n",
      "125971                      0.00       0     20  \n",
      "125972                      0.00       1     21  \n",
      "\n",
      "[125973 rows x 43 columns]\n",
      "\n",
      "Encoded df_test:\n",
      "       duration  protocol_type  service  flag  src_bytes  dst_bytes  land  \\\n",
      "0             0              1       49     1          0          0     0   \n",
      "1             0              1       49     1          0          0     0   \n",
      "2             2              1       20     9      12983          0     0   \n",
      "3             0              0       14     9         20          0     0   \n",
      "4             1              1       60     2          0         15     0   \n",
      "...         ...            ...      ...   ...        ...        ...   ...   \n",
      "22539         0              1       54     9        794        333     0   \n",
      "22540         0              1       24     9        317        938     0   \n",
      "22541         0              1       24     9      54540       8314     0   \n",
      "22542         0              2       12     9         42         42     0   \n",
      "22543         0              1       57     1          0          0     0   \n",
      "\n",
      "       wrong_fragment  urgent  hot  ...  dst_host_same_srv_rate  \\\n",
      "0                   0       0    0  ...                    0.04   \n",
      "1                   0       0    0  ...                    0.00   \n",
      "2                   0       0    0  ...                    0.61   \n",
      "3                   0       0    0  ...                    1.00   \n",
      "4                   0       0    0  ...                    0.31   \n",
      "...               ...     ...  ...  ...                     ...   \n",
      "22539               0       0    0  ...                    0.72   \n",
      "22540               0       0    0  ...                    1.00   \n",
      "22541               0       0    2  ...                    1.00   \n",
      "22542               0       0    0  ...                    0.99   \n",
      "22543               0       0    0  ...                    0.08   \n",
      "\n",
      "       dst_host_diff_srv_rate  dst_host_same_src_port_rate  \\\n",
      "0                        0.06                         0.00   \n",
      "1                        0.06                         0.00   \n",
      "2                        0.04                         0.61   \n",
      "3                        0.00                         1.00   \n",
      "4                        0.17                         0.03   \n",
      "...                       ...                          ...   \n",
      "22539                    0.06                         0.01   \n",
      "22540                    0.00                         0.01   \n",
      "22541                    0.00                         0.00   \n",
      "22542                    0.01                         0.00   \n",
      "22543                    0.03                         0.00   \n",
      "\n",
      "       dst_host_srv_diff_host_rate  dst_host_serror_rate  \\\n",
      "0                             0.00                  0.00   \n",
      "1                             0.00                  0.00   \n",
      "2                             0.02                  0.00   \n",
      "3                             0.28                  0.00   \n",
      "4                             0.02                  0.00   \n",
      "...                            ...                   ...   \n",
      "22539                         0.01                  0.01   \n",
      "22540                         0.01                  0.01   \n",
      "22541                         0.00                  0.00   \n",
      "22542                         0.00                  0.00   \n",
      "22543                         0.00                  0.00   \n",
      "\n",
      "       dst_host_srv_serror_rate  dst_host_rerror_rate  \\\n",
      "0                           0.0                  1.00   \n",
      "1                           0.0                  1.00   \n",
      "2                           0.0                  0.00   \n",
      "3                           0.0                  0.00   \n",
      "4                           0.0                  0.83   \n",
      "...                         ...                   ...   \n",
      "22539                       0.0                  0.00   \n",
      "22540                       0.0                  0.00   \n",
      "22541                       0.0                  0.07   \n",
      "22542                       0.0                  0.00   \n",
      "22543                       0.0                  0.44   \n",
      "\n",
      "       dst_host_srv_rerror_rate  attack  level  \n",
      "0                          1.00       0     21  \n",
      "1                          1.00       0     21  \n",
      "2                          0.00       1     21  \n",
      "3                          0.00       0     15  \n",
      "4                          0.71       0     11  \n",
      "...                         ...     ...    ...  \n",
      "22539                      0.00       1     21  \n",
      "22540                      0.00       1     21  \n",
      "22541                      0.07       0     15  \n",
      "22542                      0.00       1     21  \n",
      "22543                      1.00       0     14  \n",
      "\n",
      "[22544 rows x 43 columns]\n"
     ]
    }
   ],
   "source": [
    "# Binary encoding for 'attack' column\n",
    "le_attack = LabelEncoder()\n",
    "df_train_binary['attack'] = le_attack.fit_transform(df_train_binary['attack'])\n",
    "df_test_binary['attack'] = df_test_binary['attack'].apply(lambda x: le_attack.transform([x])[0] if x in le_attack.classes_ else -1)\n",
    "\n",
    "# Encode other categorical features\n",
    "columns_to_encode = ['protocol_type', 'service', 'flag']\n",
    "label_map = {}\n",
    "\n",
    "for column in columns_to_encode:\n",
    "    le = LabelEncoder()\n",
    "    le.fit(df_train_binary[column])\n",
    "    df_train_binary[column] = le.transform(df_train_binary[column])\n",
    "    df_test_binary[column] = df_test_binary[column].apply(lambda x: le.transform([x])[0] if x in le.classes_ else -1)\n",
    "    label_map[column] = dict(zip(le.classes_, le.transform(le.classes_)))\n",
    "\n",
    "# Display the label map\n",
    "for column, mapping in label_map.items():\n",
    "    print(f\"Mapping for {column}: {mapping}\")\n",
    "\n",
    "# Display encoded DataFrames\n",
    "print(\"\\nEncoded df_train:\")\n",
    "print(df_train_binary)\n",
    "\n",
    "print(\"\\nEncoded df_test:\")\n",
    "print(df_test_binary)"
   ]
  },
  {
   "cell_type": "code",
   "execution_count": 20,
   "metadata": {},
   "outputs": [],
   "source": [
    "# \"land,\" since this would have to be a check to see if src ip = dest ip\n",
    "non_directly_obtainable_features = [\n",
    "    'hot',\n",
    "    'num_failed_logins',\n",
    "    'logged_in',\n",
    "    'num_compromised',\n",
    "    'root_shell',\n",
    "    'su_attempted',\n",
    "    'num_root',\n",
    "    'num_file_creations',\n",
    "    'num_shells',\n",
    "    'num_access_files',\n",
    "    'num_outbound_cmds',\n",
    "    'is_host_login',\n",
    "    'is_guest_login',\n",
    "    'land',\n",
    "    'level',   \n",
    "]\n",
    "\n",
    "X_train = df_train_binary.drop(non_directly_obtainable_features, axis=1)\n",
    "X_test = df_test_binary.drop(non_directly_obtainable_features, axis=1)"
   ]
  },
  {
   "cell_type": "code",
   "execution_count": 21,
   "metadata": {},
   "outputs": [],
   "source": [
    "# Split the data into features (x) and target (y) - Level is unknown in real-time\n",
    "X_train = X_train.drop('attack', axis=1)\n",
    "y_train = df_train_binary['attack']\n",
    "X_test = X_test.drop('attack', axis=1)\n",
    "y_test = df_test_binary['attack']"
   ]
  },
  {
   "cell_type": "code",
   "execution_count": 22,
   "metadata": {},
   "outputs": [
    {
     "name": "stdout",
     "output_type": "stream",
     "text": [
      "Train ratio: 0.85\n",
      "Test ratio: 0.15\n"
     ]
    }
   ],
   "source": [
    "# Ratio of Training to Testing Data\n",
    "# Step 1: Determine the sizes of training and test sets\n",
    "train_size = len(df_train_binary)\n",
    "test_size = len(df_test_binary)\n",
    "\n",
    "# Step 2: Calculate the total number of samples\n",
    "total_size = train_size + test_size\n",
    "\n",
    "# Step 3: Calculate the ratios\n",
    "train_ratio = train_size / total_size\n",
    "test_ratio = test_size / total_size\n",
    "\n",
    "print(f\"Train ratio: {train_ratio:.2f}\")\n",
    "print(f\"Test ratio: {test_ratio:.2f}\")\n"
   ]
  },
  {
   "cell_type": "markdown",
   "metadata": {},
   "source": [
    "### Feature Engineering"
   ]
  },
  {
   "cell_type": "code",
   "execution_count": 23,
   "metadata": {},
   "outputs": [
    {
     "data": {
      "text/plain": [
       "Index(['service', 'flag', 'src_bytes', 'dst_bytes', 'count', 'srv_count',\n",
       "       'serror_rate', 'srv_serror_rate', 'same_srv_rate', 'diff_srv_rate',\n",
       "       'srv_diff_host_rate', 'dst_host_count', 'dst_host_srv_count',\n",
       "       'dst_host_same_srv_rate', 'dst_host_diff_srv_rate',\n",
       "       'dst_host_same_src_port_rate', 'dst_host_srv_diff_host_rate',\n",
       "       'dst_host_serror_rate', 'dst_host_srv_serror_rate',\n",
       "       'dst_host_srv_rerror_rate'],\n",
       "      dtype='object')"
      ]
     },
     "execution_count": 23,
     "metadata": {},
     "output_type": "execute_result"
    }
   ],
   "source": [
    "# SelectKBest for Top 20 Features\n",
    "top_20_features = SelectKBest(mutual_info_classif, k=20)\n",
    "top_20_features.fit(X_train, y_train)\n",
    "X_train.columns[top_20_features.get_support()]"
   ]
  },
  {
   "cell_type": "code",
   "execution_count": 24,
   "metadata": {},
   "outputs": [
    {
     "data": {
      "image/png": "[encoded data removed]",
      "text/plain": [
       "<Figure size 1200x800 with 1 Axes>"
      ]
     },
     "metadata": {},
     "output_type": "display_data"
    }
   ],
   "source": [
    "# Get the mask for the selected features\n",
    "mask = top_20_features.get_support()\n",
    "\n",
    "# Get the feature scores\n",
    "feature_scores = top_20_features.scores_\n",
    "\n",
    "# Get the selected feature names\n",
    "selected_features = X_train.columns[mask]\n",
    "selected_scores = feature_scores[mask]\n",
    "\n",
    "# Create a DataFrame for plotting\n",
    "df_top_features = pd.DataFrame({\n",
    "    'Feature': selected_features,\n",
    "    'Score': selected_scores\n",
    "})\n",
    "\n",
    "# Sort the DataFrame by scores in descending order\n",
    "df_top_features = df_top_features.sort_values(by='Score', ascending=False)\n",
    "\n",
    "# Plot the top features\n",
    "plt.figure(figsize=(12, 8))\n",
    "plt.barh(df_top_features['Feature'], df_top_features['Score'])\n",
    "plt.xlabel('Mutual Information Score')\n",
    "plt.ylabel('Feature')\n",
    "plt.title('Top 20 Features Selected by SelectKBest')\n",
    "plt.gca().invert_yaxis()  # Invert y-axis to have the highest score on top\n",
    "plt.show()\n"
   ]
  },
  {
   "cell_type": "code",
   "execution_count": 25,
   "metadata": {},
   "outputs": [],
   "source": [
    "top_20_features = ['service', 'flag', 'src_bytes', 'dst_bytes', 'count', 'srv_count',\n",
    "       'serror_rate', 'srv_serror_rate', 'same_srv_rate', 'diff_srv_rate',\n",
    "       'srv_diff_host_rate', 'dst_host_count', 'dst_host_srv_count',\n",
    "       'dst_host_same_srv_rate', 'dst_host_diff_srv_rate',\n",
    "       'dst_host_same_src_port_rate', 'dst_host_srv_diff_host_rate',\n",
    "       'dst_host_serror_rate', 'dst_host_srv_serror_rate',\n",
    "       'dst_host_srv_rerror_rate']\n",
    "\n",
    "X_train = X_train[top_20_features]\n",
    "X_test = X_test[top_20_features]"
   ]
  },
  {
   "cell_type": "markdown",
   "metadata": {},
   "source": [
    "### Scale Data"
   ]
  },
  {
   "cell_type": "code",
   "execution_count": 26,
   "metadata": {},
   "outputs": [],
   "source": [
    "scaler = StandardScaler()\n",
    "X_train = scaler.fit_transform(X_train)\n",
    "X_test = scaler.transform(X_test)\n",
    "sampled = False"
   ]
  },
  {
   "cell_type": "markdown",
   "metadata": {},
   "source": [
    "## ML Results"
   ]
  },
  {
   "cell_type": "code",
   "execution_count": 27,
   "metadata": {},
   "outputs": [
    {
     "name": "stdout",
     "output_type": "stream",
     "text": [
      "--- XGBoost ---\n",
      "Accuracy: 0.7848207948899929\n",
      "Precision: 0.8204260308362883\n",
      "Recall: 0.8075003500807081\n",
      "F1 Score: 0.7842386575269956\n",
      "Confusion Matrix:\n",
      "[[8261 4572]\n",
      " [ 279 9432]]\n",
      "Classification Report:\n",
      "              precision    recall  f1-score   support\n",
      "\n",
      "         OTH       0.97      0.64      0.77     12833\n",
      "         REJ       0.67      0.97      0.80      9711\n",
      "\n",
      "    accuracy                           0.78     22544\n",
      "   macro avg       0.82      0.81      0.78     22544\n",
      "weighted avg       0.84      0.78      0.78     22544\n",
      "\n",
      "Training Time: 0.39311695098876953 seconds\n",
      "Prediction Time: 0.00466609001159668 seconds\n",
      "--- Logistic Regression ---\n",
      "Accuracy: 0.7494233498935415\n",
      "Precision: 0.7837209518630275\n",
      "Recall: 0.7716988753355838\n",
      "F1 Score: 0.7486909854143766\n",
      "Confusion Matrix:\n",
      "[[7839 4994]\n",
      " [ 655 9056]]\n",
      "Classification Report:\n",
      "              precision    recall  f1-score   support\n",
      "\n",
      "         OTH       0.92      0.61      0.74     12833\n",
      "         REJ       0.64      0.93      0.76      9711\n",
      "\n",
      "    accuracy                           0.75     22544\n",
      "   macro avg       0.78      0.77      0.75     22544\n",
      "weighted avg       0.80      0.75      0.75     22544\n",
      "\n",
      "Training Time: 0.11815929412841797 seconds\n",
      "Prediction Time: 0.0004909038543701172 seconds\n",
      "--- Random Forest ---\n",
      "Accuracy: 0.774041873669269\n",
      "Precision: 0.8155168262862129\n",
      "Recall: 0.7983958243145073\n",
      "F1 Score: 0.7730744044592899\n",
      "Confusion Matrix:\n",
      "[[7989 4844]\n",
      " [ 250 9461]]\n",
      "Classification Report:\n",
      "              precision    recall  f1-score   support\n",
      "\n",
      "         OTH       0.97      0.62      0.76     12833\n",
      "         REJ       0.66      0.97      0.79      9711\n",
      "\n",
      "    accuracy                           0.77     22544\n",
      "   macro avg       0.82      0.80      0.77     22544\n",
      "weighted avg       0.84      0.77      0.77     22544\n",
      "\n",
      "Training Time: 6.035882949829102 seconds\n",
      "Prediction Time: 0.09506607055664062 seconds\n",
      "--- Decision Tree ---\n",
      "Accuracy: 0.7771469127040455\n",
      "Precision: 0.8155391969086323\n",
      "Recall: 0.8006346557408908\n",
      "F1 Score: 0.7763755951481184\n",
      "Confusion Matrix:\n",
      "[[8098 4735]\n",
      " [ 289 9422]]\n",
      "Classification Report:\n",
      "              precision    recall  f1-score   support\n",
      "\n",
      "         OTH       0.97      0.63      0.76     12833\n",
      "         REJ       0.67      0.97      0.79      9711\n",
      "\n",
      "    accuracy                           0.78     22544\n",
      "   macro avg       0.82      0.80      0.78     22544\n",
      "weighted avg       0.84      0.78      0.77     22544\n",
      "\n",
      "Training Time: 0.4666469097137451 seconds\n",
      "Prediction Time: 0.001711130142211914 seconds\n"
     ]
    }
   ],
   "source": [
    "# Create the classifiers\n",
    "models = {\n",
    "    \"XGBoost\": XGBClassifier(\n",
    "        eval_metric='mlogloss',\n",
    "        use_label_encoder=False\n",
    "    ),\n",
    "    \"Logistic Regression\": LogisticRegression(max_iter=2000),\n",
    "    \"Random Forest\": RandomForestClassifier(n_estimators=100),\n",
    "    \"Decision Tree\": DecisionTreeClassifier(),\n",
    "}\n",
    "\n",
    "\n",
    "# Train and evaluate each model\n",
    "results = {}\n",
    "\n",
    "for name, model in models.items():\n",
    "    # Train the model\n",
    "    start_train_time = time.time()\n",
    "    model.fit(X_train, y_train)\n",
    "    end_train_time = time.time()\n",
    "    train_time = end_train_time - start_train_time\n",
    "\n",
    "    # Predict on the test set\n",
    "    start_pred_time = time.time()\n",
    "    y_pred = model.predict(X_test)\n",
    "    end_pred_time = time.time()\n",
    "    pred_time = end_pred_time - start_pred_time\n",
    "\n",
    "    # Decode labels for evaluation\n",
    "    y_test_decoded = le.inverse_transform(y_test)\n",
    "    y_pred_decoded = le.inverse_transform(y_pred)\n",
    "\n",
    "    # Calculate evaluation metrics\n",
    "    accuracy = accuracy_score(y_test_decoded, y_pred_decoded)\n",
    "    precision = precision_score(y_test_decoded, y_pred_decoded, average='macro', zero_division=1)\n",
    "    recall = recall_score(y_test_decoded, y_pred_decoded, average='macro', zero_division=1)\n",
    "    f1 = f1_score(y_test_decoded, y_pred_decoded, average='macro', zero_division=1)\n",
    "    conf_matrix = confusion_matrix(y_test_decoded, y_pred_decoded)\n",
    "    class_report = classification_report(y_test_decoded, y_pred_decoded, zero_division=1)\n",
    "\n",
    "    # Store the results\n",
    "    results[name] = {\n",
    "        \"accuracy\": accuracy,\n",
    "        \"precision\": precision,\n",
    "        \"recall\": recall,\n",
    "        \"f1\": f1,\n",
    "        \"conf_matrix\": conf_matrix,\n",
    "        \"class_report\": class_report,\n",
    "        \"train_time\": train_time,\n",
    "        \"pred_time\": pred_time\n",
    "    }\n",
    "\n",
    "    # Print evaluation metrics\n",
    "    print(f'--- {name} ---')\n",
    "    print(f'Accuracy: {accuracy}')\n",
    "    print(f'Precision: {precision}')\n",
    "    print(f'Recall: {recall}')\n",
    "    print(f'F1 Score: {f1}')\n",
    "    print(f'Confusion Matrix:\\n{conf_matrix}')\n",
    "    print(f'Classification Report:\\n{class_report}')\n",
    "    print(f'Training Time: {train_time} seconds')\n",
    "    print(f'Prediction Time: {pred_time} seconds')\n"
   ]
  },
  {
   "cell_type": "code",
   "execution_count": 31,
   "metadata": {},
   "outputs": [],
   "source": [
    "# Function to plot confusion matrix\n",
    "def plot_confusion_matrix(conf_matrix, model_name, le_attack):\n",
    "    plt.figure(figsize=(8, 6))\n",
    "    sns.heatmap(conf_matrix, annot=True, fmt='d', cmap='Blues', xticklabels=le_attack.classes_, yticklabels=le_attack.classes_)\n",
    "    plt.title(f'Confusion Matrix for {model_name}')\n",
    "    plt.xlabel('Predicted')\n",
    "    plt.ylabel('Actual')\n",
    "    plt.show()"
   ]
  },
  {
   "cell_type": "code",
   "execution_count": 32,
   "metadata": {},
   "outputs": [
    {
     "data": {
      "image/png": "[encoded data removed]",
      "text/plain": [
       "<Figure size 800x600 with 2 Axes>"
      ]
     },
     "metadata": {},
     "output_type": "display_data"
    },
    {
     "data": {
      "image/png": "[encoded data removed]",
      "text/plain": [
       "<Figure size 800x600 with 2 Axes>"
      ]
     },
     "metadata": {},
     "output_type": "display_data"
    },
    {
     "data": {
      "image/png": "[encoded data removed]",
      "text/plain": [
       "<Figure size 800x600 with 2 Axes>"
      ]
     },
     "metadata": {},
     "output_type": "display_data"
    },
    {
     "data": {
      "image/png": "[encoded data removed]",
      "text/plain": [
       "<Figure size 800x600 with 2 Axes>"
      ]
     },
     "metadata": {},
     "output_type": "display_data"
    }
   ],
   "source": [
    "# Plot the confusion matrix for each model\n",
    "for model_name, metrics in results.items():\n",
    "    plot_confusion_matrix(metrics['conf_matrix'], model_name, le_attack)"
   ]
  },
  {
   "cell_type": "code",
   "execution_count": 30,
   "metadata": {},
   "outputs": [
    {
     "name": "stdout",
     "output_type": "stream",
     "text": [
      "Label mapping for 'attack':\n",
      "0: attack\n",
      "1: normal\n"
     ]
    }
   ],
   "source": [
    "# Print the mapping of labels\n",
    "print(\"Label mapping for 'attack':\")\n",
    "for i, label in enumerate(le_attack.classes_):\n",
    "    print(f\"{i}: {label}\")"
   ]
  },
  {
   "cell_type": "markdown",
   "metadata": {},
   "source": [
    "## DL Results"
   ]
  },
  {
   "cell_type": "code",
   "execution_count": 46,
   "metadata": {},
   "outputs": [],
   "source": [
    "def create_cnn_lstm_model(input_shape):\n",
    "    model = tf.keras.models.Sequential()\n",
    "    model.add(tf.keras.layers.Conv1D(filters=64, kernel_size=1, activation='relu', input_shape=input_shape))\n",
    "    model.add(tf.keras.layers.MaxPooling1D(pool_size=1))\n",
    "    model.add(tf.keras.layers.LSTM(50))\n",
    "    model.add(tf.keras.layers.Dense(1, activation='sigmoid'))  # For binary classification\n",
    "    model.compile(optimizer='adam', loss='binary_crossentropy', metrics=['accuracy'])\n",
    "    return model"
   ]
  },
  {
   "cell_type": "code",
   "execution_count": 47,
   "metadata": {},
   "outputs": [
    {
     "data": {
      "text/html": [
       "<pre style=\"white-space:pre;overflow-x:auto;line-height:normal;font-family:Menlo,'DejaVu Sans Mono',consolas,'Courier New',monospace\"><span style=\"font-weight: bold\">Model: \"sequential_1\"</span>\n",
       "</pre>\n"
      ],
      "text/plain": [
       "\u001b[1mModel: \"sequential_1\"\u001b[0m\n"
      ]
     },
     "metadata": {},
     "output_type": "display_data"
    },
    {
     "data": {
      "text/html": [
       "<pre style=\"white-space:pre;overflow-x:auto;line-height:normal;font-family:Menlo,'DejaVu Sans Mono',consolas,'Courier New',monospace\">┏━━━━━━━━━━━━━━━━━━━━━━━━━━━━━━━━━┳━━━━━━━━━━━━━━━━━━━━━━━━┳━━━━━━━━━━━━━━━┓\n",
       "┃<span style=\"font-weight: bold\"> Layer (type)                    </span>┃<span style=\"font-weight: bold\"> Output Shape           </span>┃<span style=\"font-weight: bold\">       Param # </span>┃\n",
       "┡━━━━━━━━━━━━━━━━━━━━━━━━━━━━━━━━━╇━━━━━━━━━━━━━━━━━━━━━━━━╇━━━━━━━━━━━━━━━┩\n",
       "│ conv1d_1 (<span style=\"color: #0087ff; text-decoration-color: #0087ff\">Conv1D</span>)               │ (<span style=\"color: #00d7ff; text-decoration-color: #00d7ff\">None</span>, <span style=\"color: #00af00; text-decoration-color: #00af00\">1</span>, <span style=\"color: #00af00; text-decoration-color: #00af00\">64</span>)          │         <span style=\"color: #00af00; text-decoration-color: #00af00\">1,344</span> │\n",
       "├─────────────────────────────────┼────────────────────────┼───────────────┤\n",
       "│ max_pooling1d (<span style=\"color: #0087ff; text-decoration-color: #0087ff\">MaxPooling1D</span>)    │ (<span style=\"color: #00d7ff; text-decoration-color: #00d7ff\">None</span>, <span style=\"color: #00af00; text-decoration-color: #00af00\">1</span>, <span style=\"color: #00af00; text-decoration-color: #00af00\">64</span>)          │             <span style=\"color: #00af00; text-decoration-color: #00af00\">0</span> │\n",
       "├─────────────────────────────────┼────────────────────────┼───────────────┤\n",
       "│ lstm (<span style=\"color: #0087ff; text-decoration-color: #0087ff\">LSTM</span>)                     │ (<span style=\"color: #00d7ff; text-decoration-color: #00d7ff\">None</span>, <span style=\"color: #00af00; text-decoration-color: #00af00\">50</span>)             │        <span style=\"color: #00af00; text-decoration-color: #00af00\">23,000</span> │\n",
       "├─────────────────────────────────┼────────────────────────┼───────────────┤\n",
       "│ dense (<span style=\"color: #0087ff; text-decoration-color: #0087ff\">Dense</span>)                   │ (<span style=\"color: #00d7ff; text-decoration-color: #00d7ff\">None</span>, <span style=\"color: #00af00; text-decoration-color: #00af00\">1</span>)              │            <span style=\"color: #00af00; text-decoration-color: #00af00\">51</span> │\n",
       "└─────────────────────────────────┴────────────────────────┴───────────────┘\n",
       "</pre>\n"
      ],
      "text/plain": [
       "┏━━━━━━━━━━━━━━━━━━━━━━━━━━━━━━━━━┳━━━━━━━━━━━━━━━━━━━━━━━━┳━━━━━━━━━━━━━━━┓\n",
       "┃\u001b[1m \u001b[0m\u001b[1mLayer (type)                   \u001b[0m\u001b[1m \u001b[0m┃\u001b[1m \u001b[0m\u001b[1mOutput Shape          \u001b[0m\u001b[1m \u001b[0m┃\u001b[1m \u001b[0m\u001b[1m      Param #\u001b[0m\u001b[1m \u001b[0m┃\n",
       "┡━━━━━━━━━━━━━━━━━━━━━━━━━━━━━━━━━╇━━━━━━━━━━━━━━━━━━━━━━━━╇━━━━━━━━━━━━━━━┩\n",
       "│ conv1d_1 (\u001b[38;5;33mConv1D\u001b[0m)               │ (\u001b[38;5;45mNone\u001b[0m, \u001b[38;5;34m1\u001b[0m, \u001b[38;5;34m64\u001b[0m)          │         \u001b[38;5;34m1,344\u001b[0m │\n",
       "├─────────────────────────────────┼────────────────────────┼───────────────┤\n",
       "│ max_pooling1d (\u001b[38;5;33mMaxPooling1D\u001b[0m)    │ (\u001b[38;5;45mNone\u001b[0m, \u001b[38;5;34m1\u001b[0m, \u001b[38;5;34m64\u001b[0m)          │             \u001b[38;5;34m0\u001b[0m │\n",
       "├─────────────────────────────────┼────────────────────────┼───────────────┤\n",
       "│ lstm (\u001b[38;5;33mLSTM\u001b[0m)                     │ (\u001b[38;5;45mNone\u001b[0m, \u001b[38;5;34m50\u001b[0m)             │        \u001b[38;5;34m23,000\u001b[0m │\n",
       "├─────────────────────────────────┼────────────────────────┼───────────────┤\n",
       "│ dense (\u001b[38;5;33mDense\u001b[0m)                   │ (\u001b[38;5;45mNone\u001b[0m, \u001b[38;5;34m1\u001b[0m)              │            \u001b[38;5;34m51\u001b[0m │\n",
       "└─────────────────────────────────┴────────────────────────┴───────────────┘\n"
      ]
     },
     "metadata": {},
     "output_type": "display_data"
    },
    {
     "data": {
      "text/html": [
       "<pre style=\"white-space:pre;overflow-x:auto;line-height:normal;font-family:Menlo,'DejaVu Sans Mono',consolas,'Courier New',monospace\"><span style=\"font-weight: bold\"> Total params: </span><span style=\"color: #00af00; text-decoration-color: #00af00\">24,395</span> (95.29 KB)\n",
       "</pre>\n"
      ],
      "text/plain": [
       "\u001b[1m Total params: \u001b[0m\u001b[38;5;34m24,395\u001b[0m (95.29 KB)\n"
      ]
     },
     "metadata": {},
     "output_type": "display_data"
    },
    {
     "data": {
      "text/html": [
       "<pre style=\"white-space:pre;overflow-x:auto;line-height:normal;font-family:Menlo,'DejaVu Sans Mono',consolas,'Courier New',monospace\"><span style=\"font-weight: bold\"> Trainable params: </span><span style=\"color: #00af00; text-decoration-color: #00af00\">24,395</span> (95.29 KB)\n",
       "</pre>\n"
      ],
      "text/plain": [
       "\u001b[1m Trainable params: \u001b[0m\u001b[38;5;34m24,395\u001b[0m (95.29 KB)\n"
      ]
     },
     "metadata": {},
     "output_type": "display_data"
    },
    {
     "data": {
      "text/html": [
       "<pre style=\"white-space:pre;overflow-x:auto;line-height:normal;font-family:Menlo,'DejaVu Sans Mono',consolas,'Courier New',monospace\"><span style=\"font-weight: bold\"> Non-trainable params: </span><span style=\"color: #00af00; text-decoration-color: #00af00\">0</span> (0.00 B)\n",
       "</pre>\n"
      ],
      "text/plain": [
       "\u001b[1m Non-trainable params: \u001b[0m\u001b[38;5;34m0\u001b[0m (0.00 B)\n"
      ]
     },
     "metadata": {},
     "output_type": "display_data"
    }
   ],
   "source": [
    "timesteps = 1\n",
    "X_train_reshaped = np.reshape(X_train, (X_train.shape[0], timesteps, X_train.shape[1]))\n",
    "X_test_reshaped = np.reshape(X_test, (X_test.shape[0], timesteps, X_test.shape[1]))\n",
    "\n",
    "input_shape = (X_train_reshaped.shape[1], X_train_reshaped.shape[2])\n",
    "cnn_lstm_model = create_cnn_lstm_model(input_shape)\n",
    "cnn_lstm_model.summary()"
   ]
  },
  {
   "cell_type": "code",
   "execution_count": 53,
   "metadata": {},
   "outputs": [
    {
     "name": "stdout",
     "output_type": "stream",
     "text": [
      "Epoch 1/30\n",
      "\u001b[1m1575/1575\u001b[0m \u001b[32m━━━━━━━━━━━━━━━━━━━━\u001b[0m\u001b[37m\u001b[0m \u001b[1m2s\u001b[0m 969us/step - accuracy: 0.9938 - loss: 0.0163 - val_accuracy: 0.9914 - val_loss: 0.0221\n",
      "Epoch 2/30\n",
      "\u001b[1m1575/1575\u001b[0m \u001b[32m━━━━━━━━━━━━━━━━━━━━\u001b[0m\u001b[37m\u001b[0m \u001b[1m1s\u001b[0m 907us/step - accuracy: 0.9938 - loss: 0.0158 - val_accuracy: 0.9931 - val_loss: 0.0207\n",
      "Epoch 3/30\n",
      "\u001b[1m1575/1575\u001b[0m \u001b[32m━━━━━━━━━━━━━━━━━━━━\u001b[0m\u001b[37m\u001b[0m \u001b[1m1s\u001b[0m 926us/step - accuracy: 0.9937 - loss: 0.0167 - val_accuracy: 0.9942 - val_loss: 0.0185\n",
      "Epoch 4/30\n",
      "\u001b[1m1575/1575\u001b[0m \u001b[32m━━━━━━━━━━━━━━━━━━━━\u001b[0m\u001b[37m\u001b[0m \u001b[1m1s\u001b[0m 896us/step - accuracy: 0.9942 - loss: 0.0148 - val_accuracy: 0.9914 - val_loss: 0.0226\n",
      "Epoch 5/30\n",
      "\u001b[1m1575/1575\u001b[0m \u001b[32m━━━━━━━━━━━━━━━━━━━━\u001b[0m\u001b[37m\u001b[0m \u001b[1m1s\u001b[0m 892us/step - accuracy: 0.9947 - loss: 0.0142 - val_accuracy: 0.9938 - val_loss: 0.0201\n",
      "Epoch 6/30\n",
      "\u001b[1m1575/1575\u001b[0m \u001b[32m━━━━━━━━━━━━━━━━━━━━\u001b[0m\u001b[37m\u001b[0m \u001b[1m1s\u001b[0m 888us/step - accuracy: 0.9943 - loss: 0.0145 - val_accuracy: 0.9930 - val_loss: 0.0204\n",
      "Epoch 7/30\n",
      "\u001b[1m1575/1575\u001b[0m \u001b[32m━━━━━━━━━━━━━━━━━━━━\u001b[0m\u001b[37m\u001b[0m \u001b[1m1s\u001b[0m 934us/step - accuracy: 0.9949 - loss: 0.0133 - val_accuracy: 0.9932 - val_loss: 0.0206\n",
      "Epoch 8/30\n",
      "\u001b[1m1575/1575\u001b[0m \u001b[32m━━━━━━━━━━━━━━━━━━━━\u001b[0m\u001b[37m\u001b[0m \u001b[1m1s\u001b[0m 919us/step - accuracy: 0.9946 - loss: 0.0136 - val_accuracy: 0.9927 - val_loss: 0.0211\n",
      "Epoch 9/30\n",
      "\u001b[1m1575/1575\u001b[0m \u001b[32m━━━━━━━━━━━━━━━━━━━━\u001b[0m\u001b[37m\u001b[0m \u001b[1m1s\u001b[0m 901us/step - accuracy: 0.9940 - loss: 0.0152 - val_accuracy: 0.9946 - val_loss: 0.0180\n",
      "Epoch 10/30\n",
      "\u001b[1m1575/1575\u001b[0m \u001b[32m━━━━━━━━━━━━━━━━━━━━\u001b[0m\u001b[37m\u001b[0m \u001b[1m1s\u001b[0m 882us/step - accuracy: 0.9953 - loss: 0.0130 - val_accuracy: 0.9938 - val_loss: 0.0198\n",
      "Epoch 11/30\n",
      "\u001b[1m1575/1575\u001b[0m \u001b[32m━━━━━━━━━━━━━━━━━━━━\u001b[0m\u001b[37m\u001b[0m \u001b[1m1s\u001b[0m 911us/step - accuracy: 0.9945 - loss: 0.0139 - val_accuracy: 0.9940 - val_loss: 0.0175\n",
      "Epoch 12/30\n",
      "\u001b[1m1575/1575\u001b[0m \u001b[32m━━━━━━━━━━━━━━━━━━━━\u001b[0m\u001b[37m\u001b[0m \u001b[1m1s\u001b[0m 919us/step - accuracy: 0.9951 - loss: 0.0126 - val_accuracy: 0.9936 - val_loss: 0.0201\n",
      "Epoch 13/30\n",
      "\u001b[1m1575/1575\u001b[0m \u001b[32m━━━━━━━━━━━━━━━━━━━━\u001b[0m\u001b[37m\u001b[0m \u001b[1m1s\u001b[0m 922us/step - accuracy: 0.9948 - loss: 0.0131 - val_accuracy: 0.9942 - val_loss: 0.0185\n",
      "Epoch 14/30\n",
      "\u001b[1m1575/1575\u001b[0m \u001b[32m━━━━━━━━━━━━━━━━━━━━\u001b[0m\u001b[37m\u001b[0m \u001b[1m1s\u001b[0m 939us/step - accuracy: 0.9954 - loss: 0.0124 - val_accuracy: 0.9936 - val_loss: 0.0197\n",
      "Epoch 15/30\n",
      "\u001b[1m1575/1575\u001b[0m \u001b[32m━━━━━━━━━━━━━━━━━━━━\u001b[0m\u001b[37m\u001b[0m \u001b[1m1s\u001b[0m 925us/step - accuracy: 0.9949 - loss: 0.0130 - val_accuracy: 0.9937 - val_loss: 0.0202\n",
      "Epoch 16/30\n",
      "\u001b[1m1575/1575\u001b[0m \u001b[32m━━━━━━━━━━━━━━━━━━━━\u001b[0m\u001b[37m\u001b[0m \u001b[1m1s\u001b[0m 897us/step - accuracy: 0.9952 - loss: 0.0126 - val_accuracy: 0.9943 - val_loss: 0.0193\n",
      "Epoch 17/30\n",
      "\u001b[1m1575/1575\u001b[0m \u001b[32m━━━━━━━━━━━━━━━━━━━━\u001b[0m\u001b[37m\u001b[0m \u001b[1m1s\u001b[0m 882us/step - accuracy: 0.9946 - loss: 0.0133 - val_accuracy: 0.9944 - val_loss: 0.0190\n",
      "Epoch 18/30\n",
      "\u001b[1m1575/1575\u001b[0m \u001b[32m━━━━━━━━━━━━━━━━━━━━\u001b[0m\u001b[37m\u001b[0m \u001b[1m1s\u001b[0m 892us/step - accuracy: 0.9950 - loss: 0.0130 - val_accuracy: 0.9948 - val_loss: 0.0179\n",
      "Epoch 19/30\n",
      "\u001b[1m1575/1575\u001b[0m \u001b[32m━━━━━━━━━━━━━━━━━━━━\u001b[0m\u001b[37m\u001b[0m \u001b[1m1s\u001b[0m 906us/step - accuracy: 0.9955 - loss: 0.0118 - val_accuracy: 0.9931 - val_loss: 0.0209\n",
      "Epoch 20/30\n",
      "\u001b[1m1575/1575\u001b[0m \u001b[32m━━━━━━━━━━━━━━━━━━━━\u001b[0m\u001b[37m\u001b[0m \u001b[1m1s\u001b[0m 891us/step - accuracy: 0.9949 - loss: 0.0132 - val_accuracy: 0.9944 - val_loss: 0.0175\n",
      "Epoch 21/30\n",
      "\u001b[1m1575/1575\u001b[0m \u001b[32m━━━━━━━━━━━━━━━━━━━━\u001b[0m\u001b[37m\u001b[0m \u001b[1m1s\u001b[0m 901us/step - accuracy: 0.9956 - loss: 0.0114 - val_accuracy: 0.9940 - val_loss: 0.0190\n",
      "Epoch 22/30\n",
      "\u001b[1m1575/1575\u001b[0m \u001b[32m━━━━━━━━━━━━━━━━━━━━\u001b[0m\u001b[37m\u001b[0m \u001b[1m1s\u001b[0m 895us/step - accuracy: 0.9951 - loss: 0.0118 - val_accuracy: 0.9933 - val_loss: 0.0205\n",
      "Epoch 23/30\n",
      "\u001b[1m1575/1575\u001b[0m \u001b[32m━━━━━━━━━━━━━━━━━━━━\u001b[0m\u001b[37m\u001b[0m \u001b[1m1s\u001b[0m 891us/step - accuracy: 0.9953 - loss: 0.0117 - val_accuracy: 0.9945 - val_loss: 0.0176\n",
      "Epoch 24/30\n",
      "\u001b[1m1575/1575\u001b[0m \u001b[32m━━━━━━━━━━━━━━━━━━━━\u001b[0m\u001b[37m\u001b[0m \u001b[1m1s\u001b[0m 879us/step - accuracy: 0.9958 - loss: 0.0108 - val_accuracy: 0.9946 - val_loss: 0.0174\n",
      "Epoch 25/30\n",
      "\u001b[1m1575/1575\u001b[0m \u001b[32m━━━━━━━━━━━━━━━━━━━━\u001b[0m\u001b[37m\u001b[0m \u001b[1m1s\u001b[0m 894us/step - accuracy: 0.9954 - loss: 0.0110 - val_accuracy: 0.9943 - val_loss: 0.0181\n",
      "Epoch 26/30\n",
      "\u001b[1m1575/1575\u001b[0m \u001b[32m━━━━━━━━━━━━━━━━━━━━\u001b[0m\u001b[37m\u001b[0m \u001b[1m1s\u001b[0m 910us/step - accuracy: 0.9951 - loss: 0.0120 - val_accuracy: 0.9947 - val_loss: 0.0170\n",
      "Epoch 27/30\n",
      "\u001b[1m1575/1575\u001b[0m \u001b[32m━━━━━━━━━━━━━━━━━━━━\u001b[0m\u001b[37m\u001b[0m \u001b[1m2s\u001b[0m 981us/step - accuracy: 0.9956 - loss: 0.0109 - val_accuracy: 0.9926 - val_loss: 0.0213\n",
      "Epoch 28/30\n",
      "\u001b[1m1575/1575\u001b[0m \u001b[32m━━━━━━━━━━━━━━━━━━━━\u001b[0m\u001b[37m\u001b[0m \u001b[1m1s\u001b[0m 919us/step - accuracy: 0.9957 - loss: 0.0112 - val_accuracy: 0.9950 - val_loss: 0.0173\n",
      "Epoch 29/30\n",
      "\u001b[1m1575/1575\u001b[0m \u001b[32m━━━━━━━━━━━━━━━━━━━━\u001b[0m\u001b[37m\u001b[0m \u001b[1m1s\u001b[0m 934us/step - accuracy: 0.9952 - loss: 0.0116 - val_accuracy: 0.9945 - val_loss: 0.0185\n",
      "Epoch 30/30\n",
      "\u001b[1m1575/1575\u001b[0m \u001b[32m━━━━━━━━━━━━━━━━━━━━\u001b[0m\u001b[37m\u001b[0m \u001b[1m1s\u001b[0m 935us/step - accuracy: 0.9955 - loss: 0.0113 - val_accuracy: 0.9950 - val_loss: 0.0179\n",
      "\u001b[1m705/705\u001b[0m \u001b[32m━━━━━━━━━━━━━━━━━━━━\u001b[0m\u001b[37m\u001b[0m \u001b[1m0s\u001b[0m 333us/step\n"
     ]
    }
   ],
   "source": [
    "# Train the model\n",
    "history = cnn_lstm_model.fit(X_train_reshaped, y_train, epochs=30, batch_size=64, validation_split=0.2)\n",
    "\n",
    "# Evaluate the model\n",
    "y_pred = cnn_lstm_model.predict(X_test_reshaped)\n",
    "y_pred_classes = (y_pred > 0.5).astype(int).flatten()\n",
    "\n",
    "# Decode labels for evaluation\n",
    "y_test_decoded = le_attack.inverse_transform(y_test)\n",
    "y_pred_decoded = le_attack.inverse_transform(y_pred_classes)\n",
    "\n",
    "# Calculate evaluation metrics\n",
    "accuracy = accuracy_score(y_test_decoded, y_pred_decoded)\n",
    "precision = precision_score(y_test_decoded, y_pred_decoded, average='macro', zero_division=1)\n",
    "recall = recall_score(y_test_decoded, y_pred_decoded, average='macro', zero_division=1)\n",
    "f1 = f1_score(y_test_decoded, y_pred_decoded, average='macro', zero_division=1)\n",
    "conf_matrix = confusion_matrix(y_test_decoded, y_pred_decoded)\n",
    "class_report = classification_report(y_test_decoded, y_pred_decoded, zero_division=1)"
   ]
  },
  {
   "cell_type": "code",
   "execution_count": 54,
   "metadata": {},
   "outputs": [
    {
     "name": "stdout",
     "output_type": "stream",
     "text": [
      "Accuracy: 0.7794978708303761\n",
      "Precision: 0.8194127951742278\n",
      "Recall: 0.8034136237248695\n",
      "F1 Score: 0.7786624743409328\n",
      "Confusion Matrix:\n",
      "[[8094 4739]\n",
      " [ 232 9479]]\n",
      "Classification Report:\n",
      "              precision    recall  f1-score   support\n",
      "\n",
      "      attack       0.97      0.63      0.77     12833\n",
      "      normal       0.67      0.98      0.79      9711\n",
      "\n",
      "    accuracy                           0.78     22544\n",
      "   macro avg       0.82      0.80      0.78     22544\n",
      "weighted avg       0.84      0.78      0.78     22544\n",
      "\n"
     ]
    }
   ],
   "source": [
    "print(f'Accuracy: {accuracy}')\n",
    "print(f'Precision: {precision}')\n",
    "print(f'Recall: {recall}')\n",
    "print(f'F1 Score: {f1}')\n",
    "print(f'Confusion Matrix:\\n{conf_matrix}')\n",
    "print(f'Classification Report:\\n{class_report}')"
   ]
  },
  {
   "cell_type": "code",
   "execution_count": 55,
   "metadata": {},
   "outputs": [
    {
     "data": {
      "image/png": "[encoded data removed]",
      "text/plain": [
       "<Figure size 800x600 with 2 Axes>"
      ]
     },
     "metadata": {},
     "output_type": "display_data"
    }
   ],
   "source": [
    "# Plot confusion matrix\n",
    "plot_confusion_matrix(conf_matrix, 'CNN-LSTM', le_attack)"
   ]
  },
  {
   "cell_type": "code",
   "execution_count": 1,
   "metadata": {},
   "outputs": [],
   "source": [
    "def create_cnn_model(input_shape):\n",
    "    model = tf.keras.models.Sequential()\n",
    "    model.add(tf.keras.layers.Conv1D(filters=64, kernel_size=1, activation='relu', input_shape=input_shape))\n",
    "    model.add(tf.keras.layers.MaxPooling1D(pool_size=1))\n",
    "    model.add(tf.keras.layers.Conv1D(filters=64, kernel_size=1, activation='relu', input_shape=input_shape))\n",
    "    model.add(tf.keras.layers.MaxPooling1D(pool_size=1))\n",
    "    model.add(tf.keras.layers.Conv1D(filters=64, kernel_size=1, activation='relu', input_shape=input_shape))\n",
    "    model.add(tf.keras.layers.Flatten())\n",
    "    model.add(tf.keras.layers.Dense(50, activation='relu'))\n",
    "    model.add(tf.keras.layers.Dense(1, activation='sigmoid'))  # For binary classification\n",
    "    model.compile(optimizer='adam', loss='binary_crossentropy', metrics=['accuracy'])\n",
    "    return model"
   ]
  },
  {
   "cell_type": "code",
   "execution_count": 59,
   "metadata": {},
   "outputs": [
    {
     "data": {
      "text/html": [
       "<pre style=\"white-space:pre;overflow-x:auto;line-height:normal;font-family:Menlo,'DejaVu Sans Mono',consolas,'Courier New',monospace\"><span style=\"font-weight: bold\">Model: \"sequential_3\"</span>\n",
       "</pre>\n"
      ],
      "text/plain": [
       "\u001b[1mModel: \"sequential_3\"\u001b[0m\n"
      ]
     },
     "metadata": {},
     "output_type": "display_data"
    },
    {
     "data": {
      "text/html": [
       "<pre style=\"white-space:pre;overflow-x:auto;line-height:normal;font-family:Menlo,'DejaVu Sans Mono',consolas,'Courier New',monospace\">┏━━━━━━━━━━━━━━━━━━━━━━━━━━━━━━━━━┳━━━━━━━━━━━━━━━━━━━━━━━━┳━━━━━━━━━━━━━━━┓\n",
       "┃<span style=\"font-weight: bold\"> Layer (type)                    </span>┃<span style=\"font-weight: bold\"> Output Shape           </span>┃<span style=\"font-weight: bold\">       Param # </span>┃\n",
       "┡━━━━━━━━━━━━━━━━━━━━━━━━━━━━━━━━━╇━━━━━━━━━━━━━━━━━━━━━━━━╇━━━━━━━━━━━━━━━┩\n",
       "│ conv1d_3 (<span style=\"color: #0087ff; text-decoration-color: #0087ff\">Conv1D</span>)               │ (<span style=\"color: #00d7ff; text-decoration-color: #00d7ff\">None</span>, <span style=\"color: #00af00; text-decoration-color: #00af00\">1</span>, <span style=\"color: #00af00; text-decoration-color: #00af00\">64</span>)          │         <span style=\"color: #00af00; text-decoration-color: #00af00\">1,344</span> │\n",
       "├─────────────────────────────────┼────────────────────────┼───────────────┤\n",
       "│ max_pooling1d_1 (<span style=\"color: #0087ff; text-decoration-color: #0087ff\">MaxPooling1D</span>)  │ (<span style=\"color: #00d7ff; text-decoration-color: #00d7ff\">None</span>, <span style=\"color: #00af00; text-decoration-color: #00af00\">1</span>, <span style=\"color: #00af00; text-decoration-color: #00af00\">64</span>)          │             <span style=\"color: #00af00; text-decoration-color: #00af00\">0</span> │\n",
       "├─────────────────────────────────┼────────────────────────┼───────────────┤\n",
       "│ flatten (<span style=\"color: #0087ff; text-decoration-color: #0087ff\">Flatten</span>)               │ (<span style=\"color: #00d7ff; text-decoration-color: #00d7ff\">None</span>, <span style=\"color: #00af00; text-decoration-color: #00af00\">64</span>)             │             <span style=\"color: #00af00; text-decoration-color: #00af00\">0</span> │\n",
       "├─────────────────────────────────┼────────────────────────┼───────────────┤\n",
       "│ dense_1 (<span style=\"color: #0087ff; text-decoration-color: #0087ff\">Dense</span>)                 │ (<span style=\"color: #00d7ff; text-decoration-color: #00d7ff\">None</span>, <span style=\"color: #00af00; text-decoration-color: #00af00\">50</span>)             │         <span style=\"color: #00af00; text-decoration-color: #00af00\">3,250</span> │\n",
       "├─────────────────────────────────┼────────────────────────┼───────────────┤\n",
       "│ dense_2 (<span style=\"color: #0087ff; text-decoration-color: #0087ff\">Dense</span>)                 │ (<span style=\"color: #00d7ff; text-decoration-color: #00d7ff\">None</span>, <span style=\"color: #00af00; text-decoration-color: #00af00\">1</span>)              │            <span style=\"color: #00af00; text-decoration-color: #00af00\">51</span> │\n",
       "└─────────────────────────────────┴────────────────────────┴───────────────┘\n",
       "</pre>\n"
      ],
      "text/plain": [
       "┏━━━━━━━━━━━━━━━━━━━━━━━━━━━━━━━━━┳━━━━━━━━━━━━━━━━━━━━━━━━┳━━━━━━━━━━━━━━━┓\n",
       "┃\u001b[1m \u001b[0m\u001b[1mLayer (type)                   \u001b[0m\u001b[1m \u001b[0m┃\u001b[1m \u001b[0m\u001b[1mOutput Shape          \u001b[0m\u001b[1m \u001b[0m┃\u001b[1m \u001b[0m\u001b[1m      Param #\u001b[0m\u001b[1m \u001b[0m┃\n",
       "┡━━━━━━━━━━━━━━━━━━━━━━━━━━━━━━━━━╇━━━━━━━━━━━━━━━━━━━━━━━━╇━━━━━━━━━━━━━━━┩\n",
       "│ conv1d_3 (\u001b[38;5;33mConv1D\u001b[0m)               │ (\u001b[38;5;45mNone\u001b[0m, \u001b[38;5;34m1\u001b[0m, \u001b[38;5;34m64\u001b[0m)          │         \u001b[38;5;34m1,344\u001b[0m │\n",
       "├─────────────────────────────────┼────────────────────────┼───────────────┤\n",
       "│ max_pooling1d_1 (\u001b[38;5;33mMaxPooling1D\u001b[0m)  │ (\u001b[38;5;45mNone\u001b[0m, \u001b[38;5;34m1\u001b[0m, \u001b[38;5;34m64\u001b[0m)          │             \u001b[38;5;34m0\u001b[0m │\n",
       "├─────────────────────────────────┼────────────────────────┼───────────────┤\n",
       "│ flatten (\u001b[38;5;33mFlatten\u001b[0m)               │ (\u001b[38;5;45mNone\u001b[0m, \u001b[38;5;34m64\u001b[0m)             │             \u001b[38;5;34m0\u001b[0m │\n",
       "├─────────────────────────────────┼────────────────────────┼───────────────┤\n",
       "│ dense_1 (\u001b[38;5;33mDense\u001b[0m)                 │ (\u001b[38;5;45mNone\u001b[0m, \u001b[38;5;34m50\u001b[0m)             │         \u001b[38;5;34m3,250\u001b[0m │\n",
       "├─────────────────────────────────┼────────────────────────┼───────────────┤\n",
       "│ dense_2 (\u001b[38;5;33mDense\u001b[0m)                 │ (\u001b[38;5;45mNone\u001b[0m, \u001b[38;5;34m1\u001b[0m)              │            \u001b[38;5;34m51\u001b[0m │\n",
       "└─────────────────────────────────┴────────────────────────┴───────────────┘\n"
      ]
     },
     "metadata": {},
     "output_type": "display_data"
    },
    {
     "data": {
      "text/html": [
       "<pre style=\"white-space:pre;overflow-x:auto;line-height:normal;font-family:Menlo,'DejaVu Sans Mono',consolas,'Courier New',monospace\"><span style=\"font-weight: bold\"> Total params: </span><span style=\"color: #00af00; text-decoration-color: #00af00\">4,645</span> (18.14 KB)\n",
       "</pre>\n"
      ],
      "text/plain": [
       "\u001b[1m Total params: \u001b[0m\u001b[38;5;34m4,645\u001b[0m (18.14 KB)\n"
      ]
     },
     "metadata": {},
     "output_type": "display_data"
    },
    {
     "data": {
      "text/html": [
       "<pre style=\"white-space:pre;overflow-x:auto;line-height:normal;font-family:Menlo,'DejaVu Sans Mono',consolas,'Courier New',monospace\"><span style=\"font-weight: bold\"> Trainable params: </span><span style=\"color: #00af00; text-decoration-color: #00af00\">4,645</span> (18.14 KB)\n",
       "</pre>\n"
      ],
      "text/plain": [
       "\u001b[1m Trainable params: \u001b[0m\u001b[38;5;34m4,645\u001b[0m (18.14 KB)\n"
      ]
     },
     "metadata": {},
     "output_type": "display_data"
    },
    {
     "data": {
      "text/html": [
       "<pre style=\"white-space:pre;overflow-x:auto;line-height:normal;font-family:Menlo,'DejaVu Sans Mono',consolas,'Courier New',monospace\"><span style=\"font-weight: bold\"> Non-trainable params: </span><span style=\"color: #00af00; text-decoration-color: #00af00\">0</span> (0.00 B)\n",
       "</pre>\n"
      ],
      "text/plain": [
       "\u001b[1m Non-trainable params: \u001b[0m\u001b[38;5;34m0\u001b[0m (0.00 B)\n"
      ]
     },
     "metadata": {},
     "output_type": "display_data"
    },
    {
     "name": "stdout",
     "output_type": "stream",
     "text": [
      "Epoch 1/20\n",
      "\u001b[1m1575/1575\u001b[0m \u001b[32m━━━━━━━━━━━━━━━━━━━━\u001b[0m\u001b[37m\u001b[0m \u001b[1m1s\u001b[0m 561us/step - accuracy: 0.9560 - loss: 0.1423 - val_accuracy: 0.9798 - val_loss: 0.0607\n",
      "Epoch 2/20\n",
      "\u001b[1m1575/1575\u001b[0m \u001b[32m━━━━━━━━━━━━━━━━━━━━\u001b[0m\u001b[37m\u001b[0m \u001b[1m1s\u001b[0m 487us/step - accuracy: 0.9788 - loss: 0.0587 - val_accuracy: 0.9831 - val_loss: 0.0485\n",
      "Epoch 3/20\n",
      "\u001b[1m1575/1575\u001b[0m \u001b[32m━━━━━━━━━━━━━━━━━━━━\u001b[0m\u001b[37m\u001b[0m \u001b[1m1s\u001b[0m 499us/step - accuracy: 0.9832 - loss: 0.0455 - val_accuracy: 0.9858 - val_loss: 0.0410\n",
      "Epoch 4/20\n",
      "\u001b[1m1575/1575\u001b[0m \u001b[32m━━━━━━━━━━━━━━━━━━━━\u001b[0m\u001b[37m\u001b[0m \u001b[1m1s\u001b[0m 501us/step - accuracy: 0.9856 - loss: 0.0394 - val_accuracy: 0.9867 - val_loss: 0.0379\n",
      "Epoch 5/20\n",
      "\u001b[1m1575/1575\u001b[0m \u001b[32m━━━━━━━━━━━━━━━━━━━━\u001b[0m\u001b[37m\u001b[0m \u001b[1m1s\u001b[0m 494us/step - accuracy: 0.9864 - loss: 0.0370 - val_accuracy: 0.9882 - val_loss: 0.0336\n",
      "Epoch 6/20\n",
      "\u001b[1m1575/1575\u001b[0m \u001b[32m━━━━━━━━━━━━━━━━━━━━\u001b[0m\u001b[37m\u001b[0m \u001b[1m1s\u001b[0m 478us/step - accuracy: 0.9881 - loss: 0.0331 - val_accuracy: 0.9904 - val_loss: 0.0290\n",
      "Epoch 7/20\n",
      "\u001b[1m1575/1575\u001b[0m \u001b[32m━━━━━━━━━━━━━━━━━━━━\u001b[0m\u001b[37m\u001b[0m \u001b[1m1s\u001b[0m 508us/step - accuracy: 0.9882 - loss: 0.0322 - val_accuracy: 0.9903 - val_loss: 0.0285\n",
      "Epoch 8/20\n",
      "\u001b[1m1575/1575\u001b[0m \u001b[32m━━━━━━━━━━━━━━━━━━━━\u001b[0m\u001b[37m\u001b[0m \u001b[1m1s\u001b[0m 511us/step - accuracy: 0.9898 - loss: 0.0290 - val_accuracy: 0.9902 - val_loss: 0.0301\n",
      "Epoch 9/20\n",
      "\u001b[1m1575/1575\u001b[0m \u001b[32m━━━━━━━━━━━━━━━━━━━━\u001b[0m\u001b[37m\u001b[0m \u001b[1m1s\u001b[0m 494us/step - accuracy: 0.9890 - loss: 0.0292 - val_accuracy: 0.9902 - val_loss: 0.0270\n",
      "Epoch 10/20\n",
      "\u001b[1m1575/1575\u001b[0m \u001b[32m━━━━━━━━━━━━━━━━━━━━\u001b[0m\u001b[37m\u001b[0m \u001b[1m1s\u001b[0m 509us/step - accuracy: 0.9902 - loss: 0.0269 - val_accuracy: 0.9859 - val_loss: 0.0361\n",
      "Epoch 11/20\n",
      "\u001b[1m1575/1575\u001b[0m \u001b[32m━━━━━━━━━━━━━━━━━━━━\u001b[0m\u001b[37m\u001b[0m \u001b[1m1s\u001b[0m 499us/step - accuracy: 0.9907 - loss: 0.0256 - val_accuracy: 0.9908 - val_loss: 0.0267\n",
      "Epoch 12/20\n",
      "\u001b[1m1575/1575\u001b[0m \u001b[32m━━━━━━━━━━━━━━━━━━━━\u001b[0m\u001b[37m\u001b[0m \u001b[1m1s\u001b[0m 509us/step - accuracy: 0.9914 - loss: 0.0259 - val_accuracy: 0.9920 - val_loss: 0.0241\n",
      "Epoch 13/20\n",
      "\u001b[1m1575/1575\u001b[0m \u001b[32m━━━━━━━━━━━━━━━━━━━━\u001b[0m\u001b[37m\u001b[0m \u001b[1m1s\u001b[0m 489us/step - accuracy: 0.9914 - loss: 0.0236 - val_accuracy: 0.9909 - val_loss: 0.0261\n",
      "Epoch 14/20\n",
      "\u001b[1m1575/1575\u001b[0m \u001b[32m━━━━━━━━━━━━━━━━━━━━\u001b[0m\u001b[37m\u001b[0m \u001b[1m1s\u001b[0m 499us/step - accuracy: 0.9910 - loss: 0.0233 - val_accuracy: 0.9925 - val_loss: 0.0233\n",
      "Epoch 15/20\n",
      "\u001b[1m1575/1575\u001b[0m \u001b[32m━━━━━━━━━━━━━━━━━━━━\u001b[0m\u001b[37m\u001b[0m \u001b[1m1s\u001b[0m 504us/step - accuracy: 0.9918 - loss: 0.0231 - val_accuracy: 0.9923 - val_loss: 0.0224\n",
      "Epoch 16/20\n",
      "\u001b[1m1575/1575\u001b[0m \u001b[32m━━━━━━━━━━━━━━━━━━━━\u001b[0m\u001b[37m\u001b[0m \u001b[1m1s\u001b[0m 491us/step - accuracy: 0.9927 - loss: 0.0216 - val_accuracy: 0.9914 - val_loss: 0.0252\n",
      "Epoch 17/20\n",
      "\u001b[1m1575/1575\u001b[0m \u001b[32m━━━━━━━━━━━━━━━━━━━━\u001b[0m\u001b[37m\u001b[0m \u001b[1m1s\u001b[0m 474us/step - accuracy: 0.9916 - loss: 0.0227 - val_accuracy: 0.9928 - val_loss: 0.0219\n",
      "Epoch 18/20\n",
      "\u001b[1m1575/1575\u001b[0m \u001b[32m━━━━━━━━━━━━━━━━━━━━\u001b[0m\u001b[37m\u001b[0m \u001b[1m1s\u001b[0m 475us/step - accuracy: 0.9928 - loss: 0.0203 - val_accuracy: 0.9915 - val_loss: 0.0239\n",
      "Epoch 19/20\n",
      "\u001b[1m1575/1575\u001b[0m \u001b[32m━━━━━━━━━━━━━━━━━━━━\u001b[0m\u001b[37m\u001b[0m \u001b[1m1s\u001b[0m 475us/step - accuracy: 0.9931 - loss: 0.0197 - val_accuracy: 0.9921 - val_loss: 0.0226\n",
      "Epoch 20/20\n",
      "\u001b[1m1575/1575\u001b[0m \u001b[32m━━━━━━━━━━━━━━━━━━━━\u001b[0m\u001b[37m\u001b[0m \u001b[1m1s\u001b[0m 480us/step - accuracy: 0.9924 - loss: 0.0202 - val_accuracy: 0.9919 - val_loss: 0.0228\n",
      "\u001b[1m705/705\u001b[0m \u001b[32m━━━━━━━━━━━━━━━━━━━━\u001b[0m\u001b[37m\u001b[0m \u001b[1m0s\u001b[0m 295us/step\n"
     ]
    }
   ],
   "source": [
    "# Assuming X_train and X_test are your feature sets\n",
    "timesteps = 1\n",
    "X_train_reshaped = np.reshape(X_train, (X_train.shape[0], timesteps, X_train.shape[1]))\n",
    "X_test_reshaped = np.reshape(X_test, (X_test.shape[0], timesteps, X_test.shape[1]))\n",
    "\n",
    "input_shape = (X_train_reshaped.shape[1], X_train_reshaped.shape[2])\n",
    "cnn_model = create_cnn_model(input_shape)\n",
    "cnn_model.summary()\n",
    "\n",
    "# Train the model\n",
    "cnn_model.fit(X_train_reshaped, y_train, epochs=20, batch_size=64, validation_split=0.2)\n",
    "\n",
    "# Evaluate the model\n",
    "y_pred = cnn_model.predict(X_test_reshaped)\n",
    "y_pred_classes = (y_pred > 0.5).astype(int).flatten()\n",
    "\n",
    "# Decode labels for evaluation\n",
    "y_test_decoded = le_attack.inverse_transform(y_test)\n",
    "y_pred_decoded = le_attack.inverse_transform(y_pred_classes)\n",
    "\n",
    "# Calculate evaluation metrics\n",
    "accuracy = accuracy_score(y_test_decoded, y_pred_decoded)\n",
    "precision = precision_score(y_test_decoded, y_pred_decoded, average='macro', zero_division=1)\n",
    "recall = recall_score(y_test_decoded, y_pred_decoded, average='macro', zero_division=1)\n",
    "f1 = f1_score(y_test_decoded, y_pred_decoded, average='macro', zero_division=1)\n",
    "conf_matrix = confusion_matrix(y_test_decoded, y_pred_decoded)\n",
    "class_report = classification_report(y_test_decoded, y_pred_decoded, zero_division=1)"
   ]
  },
  {
   "cell_type": "code",
   "execution_count": 60,
   "metadata": {},
   "outputs": [
    {
     "name": "stdout",
     "output_type": "stream",
     "text": [
      "Accuracy: 0.7737757274662882\n",
      "Precision: 0.815780450602902\n",
      "Recall: 0.7982747855797289\n",
      "F1 Score: 0.7727751353217841\n",
      "Confusion Matrix:\n",
      "[[7974 4859]\n",
      " [ 241 9470]]\n",
      "Classification Report:\n",
      "              precision    recall  f1-score   support\n",
      "\n",
      "      attack       0.97      0.62      0.76     12833\n",
      "      normal       0.66      0.98      0.79      9711\n",
      "\n",
      "    accuracy                           0.77     22544\n",
      "   macro avg       0.82      0.80      0.77     22544\n",
      "weighted avg       0.84      0.77      0.77     22544\n",
      "\n"
     ]
    }
   ],
   "source": [
    "# Print evaluation metrics\n",
    "print(f'Accuracy: {accuracy}')\n",
    "print(f'Precision: {precision}')\n",
    "print(f'Recall: {recall}')\n",
    "print(f'F1 Score: {f1}')\n",
    "print(f'Confusion Matrix:\\n{conf_matrix}')\n",
    "print(f'Classification Report:\\n{class_report}')"
   ]
  },
  {
   "cell_type": "code",
   "execution_count": 61,
   "metadata": {},
   "outputs": [
    {
     "data": {
      "image/png": "[encoded data removed]",
      "text/plain": [
       "<Figure size 800x600 with 2 Axes>"
      ]
     },
     "metadata": {},
     "output_type": "display_data"
    }
   ],
   "source": [
    "# Plot confusion matrix\n",
    "plot_confusion_matrix(conf_matrix, 'CNN', le_attack)"
   ]
  },
  {
   "cell_type": "code",
   "execution_count": 63,
   "metadata": {},
   "outputs": [
    {
     "data": {
      "text/html": [
       "<pre style=\"white-space:pre;overflow-x:auto;line-height:normal;font-family:Menlo,'DejaVu Sans Mono',consolas,'Courier New',monospace\"><span style=\"font-weight: bold\">Model: \"functional_10\"</span>\n",
       "</pre>\n"
      ],
      "text/plain": [
       "\u001b[1mModel: \"functional_10\"\u001b[0m\n"
      ]
     },
     "metadata": {},
     "output_type": "display_data"
    },
    {
     "data": {
      "text/html": [
       "<pre style=\"white-space:pre;overflow-x:auto;line-height:normal;font-family:Menlo,'DejaVu Sans Mono',consolas,'Courier New',monospace\">┏━━━━━━━━━━━━━━━━━━━━━━━━━━━━━━━━━┳━━━━━━━━━━━━━━━━━━━━━━━━┳━━━━━━━━━━━━━━━┓\n",
       "┃<span style=\"font-weight: bold\"> Layer (type)                    </span>┃<span style=\"font-weight: bold\"> Output Shape           </span>┃<span style=\"font-weight: bold\">       Param # </span>┃\n",
       "┡━━━━━━━━━━━━━━━━━━━━━━━━━━━━━━━━━╇━━━━━━━━━━━━━━━━━━━━━━━━╇━━━━━━━━━━━━━━━┩\n",
       "│ input_layer_4 (<span style=\"color: #0087ff; text-decoration-color: #0087ff\">InputLayer</span>)      │ (<span style=\"color: #00d7ff; text-decoration-color: #00d7ff\">None</span>, <span style=\"color: #00af00; text-decoration-color: #00af00\">20</span>)             │             <span style=\"color: #00af00; text-decoration-color: #00af00\">0</span> │\n",
       "├─────────────────────────────────┼────────────────────────┼───────────────┤\n",
       "│ dense_3 (<span style=\"color: #0087ff; text-decoration-color: #0087ff\">Dense</span>)                 │ (<span style=\"color: #00d7ff; text-decoration-color: #00d7ff\">None</span>, <span style=\"color: #00af00; text-decoration-color: #00af00\">128</span>)            │         <span style=\"color: #00af00; text-decoration-color: #00af00\">2,688</span> │\n",
       "├─────────────────────────────────┼────────────────────────┼───────────────┤\n",
       "│ dense_4 (<span style=\"color: #0087ff; text-decoration-color: #0087ff\">Dense</span>)                 │ (<span style=\"color: #00d7ff; text-decoration-color: #00d7ff\">None</span>, <span style=\"color: #00af00; text-decoration-color: #00af00\">64</span>)             │         <span style=\"color: #00af00; text-decoration-color: #00af00\">8,256</span> │\n",
       "├─────────────────────────────────┼────────────────────────┼───────────────┤\n",
       "│ dense_5 (<span style=\"color: #0087ff; text-decoration-color: #0087ff\">Dense</span>)                 │ (<span style=\"color: #00d7ff; text-decoration-color: #00d7ff\">None</span>, <span style=\"color: #00af00; text-decoration-color: #00af00\">64</span>)             │         <span style=\"color: #00af00; text-decoration-color: #00af00\">4,160</span> │\n",
       "├─────────────────────────────────┼────────────────────────┼───────────────┤\n",
       "│ dense_6 (<span style=\"color: #0087ff; text-decoration-color: #0087ff\">Dense</span>)                 │ (<span style=\"color: #00d7ff; text-decoration-color: #00d7ff\">None</span>, <span style=\"color: #00af00; text-decoration-color: #00af00\">64</span>)             │         <span style=\"color: #00af00; text-decoration-color: #00af00\">4,160</span> │\n",
       "├─────────────────────────────────┼────────────────────────┼───────────────┤\n",
       "│ dense_7 (<span style=\"color: #0087ff; text-decoration-color: #0087ff\">Dense</span>)                 │ (<span style=\"color: #00d7ff; text-decoration-color: #00d7ff\">None</span>, <span style=\"color: #00af00; text-decoration-color: #00af00\">128</span>)            │         <span style=\"color: #00af00; text-decoration-color: #00af00\">8,320</span> │\n",
       "├─────────────────────────────────┼────────────────────────┼───────────────┤\n",
       "│ dense_8 (<span style=\"color: #0087ff; text-decoration-color: #0087ff\">Dense</span>)                 │ (<span style=\"color: #00d7ff; text-decoration-color: #00d7ff\">None</span>, <span style=\"color: #00af00; text-decoration-color: #00af00\">20</span>)             │         <span style=\"color: #00af00; text-decoration-color: #00af00\">2,580</span> │\n",
       "└─────────────────────────────────┴────────────────────────┴───────────────┘\n",
       "</pre>\n"
      ],
      "text/plain": [
       "┏━━━━━━━━━━━━━━━━━━━━━━━━━━━━━━━━━┳━━━━━━━━━━━━━━━━━━━━━━━━┳━━━━━━━━━━━━━━━┓\n",
       "┃\u001b[1m \u001b[0m\u001b[1mLayer (type)                   \u001b[0m\u001b[1m \u001b[0m┃\u001b[1m \u001b[0m\u001b[1mOutput Shape          \u001b[0m\u001b[1m \u001b[0m┃\u001b[1m \u001b[0m\u001b[1m      Param #\u001b[0m\u001b[1m \u001b[0m┃\n",
       "┡━━━━━━━━━━━━━━━━━━━━━━━━━━━━━━━━━╇━━━━━━━━━━━━━━━━━━━━━━━━╇━━━━━━━━━━━━━━━┩\n",
       "│ input_layer_4 (\u001b[38;5;33mInputLayer\u001b[0m)      │ (\u001b[38;5;45mNone\u001b[0m, \u001b[38;5;34m20\u001b[0m)             │             \u001b[38;5;34m0\u001b[0m │\n",
       "├─────────────────────────────────┼────────────────────────┼───────────────┤\n",
       "│ dense_3 (\u001b[38;5;33mDense\u001b[0m)                 │ (\u001b[38;5;45mNone\u001b[0m, \u001b[38;5;34m128\u001b[0m)            │         \u001b[38;5;34m2,688\u001b[0m │\n",
       "├─────────────────────────────────┼────────────────────────┼───────────────┤\n",
       "│ dense_4 (\u001b[38;5;33mDense\u001b[0m)                 │ (\u001b[38;5;45mNone\u001b[0m, \u001b[38;5;34m64\u001b[0m)             │         \u001b[38;5;34m8,256\u001b[0m │\n",
       "├─────────────────────────────────┼────────────────────────┼───────────────┤\n",
       "│ dense_5 (\u001b[38;5;33mDense\u001b[0m)                 │ (\u001b[38;5;45mNone\u001b[0m, \u001b[38;5;34m64\u001b[0m)             │         \u001b[38;5;34m4,160\u001b[0m │\n",
       "├─────────────────────────────────┼────────────────────────┼───────────────┤\n",
       "│ dense_6 (\u001b[38;5;33mDense\u001b[0m)                 │ (\u001b[38;5;45mNone\u001b[0m, \u001b[38;5;34m64\u001b[0m)             │         \u001b[38;5;34m4,160\u001b[0m │\n",
       "├─────────────────────────────────┼────────────────────────┼───────────────┤\n",
       "│ dense_7 (\u001b[38;5;33mDense\u001b[0m)                 │ (\u001b[38;5;45mNone\u001b[0m, \u001b[38;5;34m128\u001b[0m)            │         \u001b[38;5;34m8,320\u001b[0m │\n",
       "├─────────────────────────────────┼────────────────────────┼───────────────┤\n",
       "│ dense_8 (\u001b[38;5;33mDense\u001b[0m)                 │ (\u001b[38;5;45mNone\u001b[0m, \u001b[38;5;34m20\u001b[0m)             │         \u001b[38;5;34m2,580\u001b[0m │\n",
       "└─────────────────────────────────┴────────────────────────┴───────────────┘\n"
      ]
     },
     "metadata": {},
     "output_type": "display_data"
    },
    {
     "data": {
      "text/html": [
       "<pre style=\"white-space:pre;overflow-x:auto;line-height:normal;font-family:Menlo,'DejaVu Sans Mono',consolas,'Courier New',monospace\"><span style=\"font-weight: bold\"> Total params: </span><span style=\"color: #00af00; text-decoration-color: #00af00\">30,164</span> (117.83 KB)\n",
       "</pre>\n"
      ],
      "text/plain": [
       "\u001b[1m Total params: \u001b[0m\u001b[38;5;34m30,164\u001b[0m (117.83 KB)\n"
      ]
     },
     "metadata": {},
     "output_type": "display_data"
    },
    {
     "data": {
      "text/html": [
       "<pre style=\"white-space:pre;overflow-x:auto;line-height:normal;font-family:Menlo,'DejaVu Sans Mono',consolas,'Courier New',monospace\"><span style=\"font-weight: bold\"> Trainable params: </span><span style=\"color: #00af00; text-decoration-color: #00af00\">30,164</span> (117.83 KB)\n",
       "</pre>\n"
      ],
      "text/plain": [
       "\u001b[1m Trainable params: \u001b[0m\u001b[38;5;34m30,164\u001b[0m (117.83 KB)\n"
      ]
     },
     "metadata": {},
     "output_type": "display_data"
    },
    {
     "data": {
      "text/html": [
       "<pre style=\"white-space:pre;overflow-x:auto;line-height:normal;font-family:Menlo,'DejaVu Sans Mono',consolas,'Courier New',monospace\"><span style=\"font-weight: bold\"> Non-trainable params: </span><span style=\"color: #00af00; text-decoration-color: #00af00\">0</span> (0.00 B)\n",
       "</pre>\n"
      ],
      "text/plain": [
       "\u001b[1m Non-trainable params: \u001b[0m\u001b[38;5;34m0\u001b[0m (0.00 B)\n"
      ]
     },
     "metadata": {},
     "output_type": "display_data"
    }
   ],
   "source": [
    "import tensorflow as tf\n",
    "\n",
    "# Define the Autoencoder\n",
    "input_dim = X_train.shape[1]\n",
    "latent_dim = 64  # Size of the latent space\n",
    "\n",
    "# Encoder\n",
    "inputs = tf.keras.layers.Input(shape=(input_dim,))\n",
    "encoded = tf.keras.layers.Dense(128, activation='relu')(inputs)\n",
    "encoded = tf.keras.layers.Dense(64, activation='relu')(encoded)\n",
    "encoded = tf.keras.layers.Dense(latent_dim, activation='relu')(encoded)\n",
    "\n",
    "# Decoder\n",
    "decoded = tf.keras.layers.Dense(64, activation='relu')(encoded)\n",
    "decoded = tf.keras.layers.Dense(128, activation='relu')(decoded)\n",
    "decoded = tf.keras.layers.Dense(input_dim, activation='sigmoid')(decoded)\n",
    "\n",
    "# Autoencoder Model\n",
    "autoencoder = tf.keras.models.Model(inputs, decoded)\n",
    "encoder = tf.keras.models.Model(inputs, encoded)  # Separate encoder model\n",
    "autoencoder.compile(optimizer='adam', loss='mse')\n",
    "\n",
    "autoencoder.summary()"
   ]
  },
  {
   "cell_type": "code",
   "execution_count": 67,
   "metadata": {},
   "outputs": [
    {
     "name": "stdout",
     "output_type": "stream",
     "text": [
      "Epoch 1/100\n",
      "\u001b[1m3368/3368\u001b[0m \u001b[32m━━━━━━━━━━━━━━━━━━━━\u001b[0m\u001b[37m\u001b[0m \u001b[1m2s\u001b[0m 584us/step - loss: 0.3267 - val_loss: 0.3244\n",
      "Epoch 2/100\n",
      "\u001b[1m3368/3368\u001b[0m \u001b[32m━━━━━━━━━━━━━━━━━━━━\u001b[0m\u001b[37m\u001b[0m \u001b[1m2s\u001b[0m 572us/step - loss: 0.3275 - val_loss: 0.3243\n",
      "Epoch 3/100\n",
      "\u001b[1m3368/3368\u001b[0m \u001b[32m━━━━━━━━━━━━━━━━━━━━\u001b[0m\u001b[37m\u001b[0m \u001b[1m2s\u001b[0m 575us/step - loss: 0.3266 - val_loss: 0.3205\n",
      "Epoch 4/100\n",
      "\u001b[1m3368/3368\u001b[0m \u001b[32m━━━━━━━━━━━━━━━━━━━━\u001b[0m\u001b[37m\u001b[0m \u001b[1m2s\u001b[0m 568us/step - loss: 0.3210 - val_loss: 0.3204\n",
      "Epoch 5/100\n",
      "\u001b[1m3368/3368\u001b[0m \u001b[32m━━━━━━━━━━━━━━━━━━━━\u001b[0m\u001b[37m\u001b[0m \u001b[1m2s\u001b[0m 568us/step - loss: 0.3215 - val_loss: 0.3204\n",
      "Epoch 6/100\n",
      "\u001b[1m3368/3368\u001b[0m \u001b[32m━━━━━━━━━━━━━━━━━━━━\u001b[0m\u001b[37m\u001b[0m \u001b[1m2s\u001b[0m 570us/step - loss: 0.3217 - val_loss: 0.3213\n",
      "Epoch 7/100\n",
      "\u001b[1m3368/3368\u001b[0m \u001b[32m━━━━━━━━━━━━━━━━━━━━\u001b[0m\u001b[37m\u001b[0m \u001b[1m2s\u001b[0m 563us/step - loss: 0.3226 - val_loss: 0.3204\n",
      "Epoch 8/100\n",
      "\u001b[1m3368/3368\u001b[0m \u001b[32m━━━━━━━━━━━━━━━━━━━━\u001b[0m\u001b[37m\u001b[0m \u001b[1m2s\u001b[0m 569us/step - loss: 0.3219 - val_loss: 0.3204\n",
      "Epoch 9/100\n",
      "\u001b[1m3368/3368\u001b[0m \u001b[32m━━━━━━━━━━━━━━━━━━━━\u001b[0m\u001b[37m\u001b[0m \u001b[1m2s\u001b[0m 565us/step - loss: 0.3207 - val_loss: 0.3207\n",
      "Epoch 10/100\n",
      "\u001b[1m3368/3368\u001b[0m \u001b[32m━━━━━━━━━━━━━━━━━━━━\u001b[0m\u001b[37m\u001b[0m \u001b[1m2s\u001b[0m 573us/step - loss: 0.3199 - val_loss: 0.3203\n",
      "Epoch 11/100\n",
      "\u001b[1m3368/3368\u001b[0m \u001b[32m━━━━━━━━━━━━━━━━━━━━\u001b[0m\u001b[37m\u001b[0m \u001b[1m2s\u001b[0m 567us/step - loss: 0.3214 - val_loss: 0.3203\n",
      "Epoch 12/100\n",
      "\u001b[1m3368/3368\u001b[0m \u001b[32m━━━━━━━━━━━━━━━━━━━━\u001b[0m\u001b[37m\u001b[0m \u001b[1m2s\u001b[0m 569us/step - loss: 0.3217 - val_loss: 0.3203\n",
      "Epoch 13/100\n",
      "\u001b[1m3368/3368\u001b[0m \u001b[32m━━━━━━━━━━━━━━━━━━━━\u001b[0m\u001b[37m\u001b[0m \u001b[1m2s\u001b[0m 566us/step - loss: 0.3210 - val_loss: 0.3203\n",
      "Epoch 14/100\n",
      "\u001b[1m3368/3368\u001b[0m \u001b[32m━━━━━━━━━━━━━━━━━━━━\u001b[0m\u001b[37m\u001b[0m \u001b[1m2s\u001b[0m 565us/step - loss: 0.3213 - val_loss: 0.3203\n",
      "Epoch 15/100\n",
      "\u001b[1m3368/3368\u001b[0m \u001b[32m━━━━━━━━━━━━━━━━━━━━\u001b[0m\u001b[37m\u001b[0m \u001b[1m2s\u001b[0m 563us/step - loss: 0.3217 - val_loss: 0.3205\n",
      "Epoch 16/100\n",
      "\u001b[1m3368/3368\u001b[0m \u001b[32m━━━━━━━━━━━━━━━━━━━━\u001b[0m\u001b[37m\u001b[0m \u001b[1m2s\u001b[0m 565us/step - loss: 0.3241 - val_loss: 0.3203\n",
      "Epoch 17/100\n",
      "\u001b[1m3368/3368\u001b[0m \u001b[32m━━━━━━━━━━━━━━━━━━━━\u001b[0m\u001b[37m\u001b[0m \u001b[1m2s\u001b[0m 562us/step - loss: 0.3227 - val_loss: 0.3204\n",
      "Epoch 18/100\n",
      "\u001b[1m3368/3368\u001b[0m \u001b[32m━━━━━━━━━━━━━━━━━━━━\u001b[0m\u001b[37m\u001b[0m \u001b[1m2s\u001b[0m 568us/step - loss: 0.3216 - val_loss: 0.3203\n",
      "Epoch 19/100\n",
      "\u001b[1m3368/3368\u001b[0m \u001b[32m━━━━━━━━━━━━━━━━━━━━\u001b[0m\u001b[37m\u001b[0m \u001b[1m2s\u001b[0m 563us/step - loss: 0.3220 - val_loss: 0.3202\n",
      "Epoch 20/100\n",
      "\u001b[1m3368/3368\u001b[0m \u001b[32m━━━━━━━━━━━━━━━━━━━━\u001b[0m\u001b[37m\u001b[0m \u001b[1m2s\u001b[0m 565us/step - loss: 0.3225 - val_loss: 0.3203\n",
      "Epoch 21/100\n",
      "\u001b[1m3368/3368\u001b[0m \u001b[32m━━━━━━━━━━━━━━━━━━━━\u001b[0m\u001b[37m\u001b[0m \u001b[1m2s\u001b[0m 567us/step - loss: 0.3202 - val_loss: 0.3203\n",
      "Epoch 22/100\n",
      "\u001b[1m3368/3368\u001b[0m \u001b[32m━━━━━━━━━━━━━━━━━━━━\u001b[0m\u001b[37m\u001b[0m \u001b[1m2s\u001b[0m 567us/step - loss: 0.3224 - val_loss: 0.3204\n",
      "Epoch 23/100\n",
      "\u001b[1m3368/3368\u001b[0m \u001b[32m━━━━━━━━━━━━━━━━━━━━\u001b[0m\u001b[37m\u001b[0m \u001b[1m2s\u001b[0m 568us/step - loss: 0.3216 - val_loss: 0.3203\n",
      "Epoch 24/100\n",
      "\u001b[1m3368/3368\u001b[0m \u001b[32m━━━━━━━━━━━━━━━━━━━━\u001b[0m\u001b[37m\u001b[0m \u001b[1m2s\u001b[0m 568us/step - loss: 0.3220 - val_loss: 0.3203\n",
      "Epoch 25/100\n",
      "\u001b[1m3368/3368\u001b[0m \u001b[32m━━━━━━━━━━━━━━━━━━━━\u001b[0m\u001b[37m\u001b[0m \u001b[1m2s\u001b[0m 564us/step - loss: 0.3209 - val_loss: 0.3202\n",
      "Epoch 26/100\n",
      "\u001b[1m3368/3368\u001b[0m \u001b[32m━━━━━━━━━━━━━━━━━━━━\u001b[0m\u001b[37m\u001b[0m \u001b[1m2s\u001b[0m 566us/step - loss: 0.3250 - val_loss: 0.3202\n",
      "Epoch 27/100\n",
      "\u001b[1m3368/3368\u001b[0m \u001b[32m━━━━━━━━━━━━━━━━━━━━\u001b[0m\u001b[37m\u001b[0m \u001b[1m2s\u001b[0m 567us/step - loss: 0.3215 - val_loss: 0.3202\n",
      "Epoch 28/100\n",
      "\u001b[1m3368/3368\u001b[0m \u001b[32m━━━━━━━━━━━━━━━━━━━━\u001b[0m\u001b[37m\u001b[0m \u001b[1m2s\u001b[0m 567us/step - loss: 0.3223 - val_loss: 0.3201\n",
      "Epoch 29/100\n",
      "\u001b[1m3368/3368\u001b[0m \u001b[32m━━━━━━━━━━━━━━━━━━━━\u001b[0m\u001b[37m\u001b[0m \u001b[1m2s\u001b[0m 564us/step - loss: 0.3220 - val_loss: 0.3201\n",
      "Epoch 30/100\n",
      "\u001b[1m3368/3368\u001b[0m \u001b[32m━━━━━━━━━━━━━━━━━━━━\u001b[0m\u001b[37m\u001b[0m \u001b[1m2s\u001b[0m 568us/step - loss: 0.3212 - val_loss: 0.3201\n",
      "Epoch 31/100\n",
      "\u001b[1m3368/3368\u001b[0m \u001b[32m━━━━━━━━━━━━━━━━━━━━\u001b[0m\u001b[37m\u001b[0m \u001b[1m2s\u001b[0m 564us/step - loss: 0.3211 - val_loss: 0.3200\n",
      "Epoch 32/100\n",
      "\u001b[1m3368/3368\u001b[0m \u001b[32m━━━━━━━━━━━━━━━━━━━━\u001b[0m\u001b[37m\u001b[0m \u001b[1m2s\u001b[0m 564us/step - loss: 0.3198 - val_loss: 0.3200\n",
      "Epoch 33/100\n",
      "\u001b[1m3368/3368\u001b[0m \u001b[32m━━━━━━━━━━━━━━━━━━━━\u001b[0m\u001b[37m\u001b[0m \u001b[1m2s\u001b[0m 567us/step - loss: 0.3200 - val_loss: 0.3200\n",
      "Epoch 34/100\n",
      "\u001b[1m3368/3368\u001b[0m \u001b[32m━━━━━━━━━━━━━━━━━━━━\u001b[0m\u001b[37m\u001b[0m \u001b[1m2s\u001b[0m 568us/step - loss: 0.3239 - val_loss: 0.3200\n",
      "Epoch 35/100\n",
      "\u001b[1m3368/3368\u001b[0m \u001b[32m━━━━━━━━━━━━━━━━━━━━\u001b[0m\u001b[37m\u001b[0m \u001b[1m2s\u001b[0m 566us/step - loss: 0.3211 - val_loss: 0.3200\n",
      "Epoch 36/100\n",
      "\u001b[1m3368/3368\u001b[0m \u001b[32m━━━━━━━━━━━━━━━━━━━━\u001b[0m\u001b[37m\u001b[0m \u001b[1m2s\u001b[0m 573us/step - loss: 0.3243 - val_loss: 0.3204\n",
      "Epoch 37/100\n",
      "\u001b[1m3368/3368\u001b[0m \u001b[32m━━━━━━━━━━━━━━━━━━━━\u001b[0m\u001b[37m\u001b[0m \u001b[1m2s\u001b[0m 563us/step - loss: 0.3208 - val_loss: 0.3200\n",
      "Epoch 38/100\n",
      "\u001b[1m3368/3368\u001b[0m \u001b[32m━━━━━━━━━━━━━━━━━━━━\u001b[0m\u001b[37m\u001b[0m \u001b[1m2s\u001b[0m 566us/step - loss: 0.3214 - val_loss: 0.3200\n",
      "Epoch 39/100\n",
      "\u001b[1m3368/3368\u001b[0m \u001b[32m━━━━━━━━━━━━━━━━━━━━\u001b[0m\u001b[37m\u001b[0m \u001b[1m2s\u001b[0m 569us/step - loss: 0.3204 - val_loss: 0.3200\n",
      "Epoch 40/100\n",
      "\u001b[1m3368/3368\u001b[0m \u001b[32m━━━━━━━━━━━━━━━━━━━━\u001b[0m\u001b[37m\u001b[0m \u001b[1m2s\u001b[0m 565us/step - loss: 0.3205 - val_loss: 0.3200\n",
      "Epoch 41/100\n",
      "\u001b[1m3368/3368\u001b[0m \u001b[32m━━━━━━━━━━━━━━━━━━━━\u001b[0m\u001b[37m\u001b[0m \u001b[1m2s\u001b[0m 566us/step - loss: 0.3204 - val_loss: 0.3200\n",
      "Epoch 42/100\n",
      "\u001b[1m3368/3368\u001b[0m \u001b[32m━━━━━━━━━━━━━━━━━━━━\u001b[0m\u001b[37m\u001b[0m \u001b[1m2s\u001b[0m 565us/step - loss: 0.3204 - val_loss: 0.3201\n",
      "Epoch 43/100\n",
      "\u001b[1m3368/3368\u001b[0m \u001b[32m━━━━━━━━━━━━━━━━━━━━\u001b[0m\u001b[37m\u001b[0m \u001b[1m2s\u001b[0m 567us/step - loss: 0.3210 - val_loss: 0.3200\n",
      "Epoch 44/100\n",
      "\u001b[1m3368/3368\u001b[0m \u001b[32m━━━━━━━━━━━━━━━━━━━━\u001b[0m\u001b[37m\u001b[0m \u001b[1m2s\u001b[0m 565us/step - loss: 0.3206 - val_loss: 0.3201\n",
      "Epoch 45/100\n",
      "\u001b[1m3368/3368\u001b[0m \u001b[32m━━━━━━━━━━━━━━━━━━━━\u001b[0m\u001b[37m\u001b[0m \u001b[1m2s\u001b[0m 566us/step - loss: 0.3235 - val_loss: 0.3200\n",
      "Epoch 46/100\n",
      "\u001b[1m3368/3368\u001b[0m \u001b[32m━━━━━━━━━━━━━━━━━━━━\u001b[0m\u001b[37m\u001b[0m \u001b[1m2s\u001b[0m 571us/step - loss: 0.3231 - val_loss: 0.3200\n",
      "Epoch 47/100\n",
      "\u001b[1m3368/3368\u001b[0m \u001b[32m━━━━━━━━━━━━━━━━━━━━\u001b[0m\u001b[37m\u001b[0m \u001b[1m2s\u001b[0m 562us/step - loss: 0.3199 - val_loss: 0.3200\n",
      "Epoch 48/100\n",
      "\u001b[1m3368/3368\u001b[0m \u001b[32m━━━━━━━━━━━━━━━━━━━━\u001b[0m\u001b[37m\u001b[0m \u001b[1m2s\u001b[0m 567us/step - loss: 0.3204 - val_loss: 0.3200\n",
      "Epoch 49/100\n",
      "\u001b[1m3368/3368\u001b[0m \u001b[32m━━━━━━━━━━━━━━━━━━━━\u001b[0m\u001b[37m\u001b[0m \u001b[1m2s\u001b[0m 563us/step - loss: 0.3194 - val_loss: 0.3200\n",
      "Epoch 50/100\n",
      "\u001b[1m3368/3368\u001b[0m \u001b[32m━━━━━━━━━━━━━━━━━━━━\u001b[0m\u001b[37m\u001b[0m \u001b[1m2s\u001b[0m 569us/step - loss: 0.3231 - val_loss: 0.3200\n",
      "Epoch 51/100\n",
      "\u001b[1m3368/3368\u001b[0m \u001b[32m━━━━━━━━━━━━━━━━━━━━\u001b[0m\u001b[37m\u001b[0m \u001b[1m2s\u001b[0m 568us/step - loss: 0.3196 - val_loss: 0.3201\n",
      "Epoch 52/100\n",
      "\u001b[1m3368/3368\u001b[0m \u001b[32m━━━━━━━━━━━━━━━━━━━━\u001b[0m\u001b[37m\u001b[0m \u001b[1m2s\u001b[0m 562us/step - loss: 0.3219 - val_loss: 0.3202\n",
      "Epoch 53/100\n",
      "\u001b[1m3368/3368\u001b[0m \u001b[32m━━━━━━━━━━━━━━━━━━━━\u001b[0m\u001b[37m\u001b[0m \u001b[1m2s\u001b[0m 567us/step - loss: 0.3200 - val_loss: 0.3201\n",
      "Epoch 54/100\n",
      "\u001b[1m3368/3368\u001b[0m \u001b[32m━━━━━━━━━━━━━━━━━━━━\u001b[0m\u001b[37m\u001b[0m \u001b[1m2s\u001b[0m 570us/step - loss: 0.3221 - val_loss: 0.3201\n",
      "Epoch 55/100\n",
      "\u001b[1m3368/3368\u001b[0m \u001b[32m━━━━━━━━━━━━━━━━━━━━\u001b[0m\u001b[37m\u001b[0m \u001b[1m2s\u001b[0m 566us/step - loss: 0.3250 - val_loss: 0.3200\n",
      "Epoch 56/100\n",
      "\u001b[1m3368/3368\u001b[0m \u001b[32m━━━━━━━━━━━━━━━━━━━━\u001b[0m\u001b[37m\u001b[0m \u001b[1m2s\u001b[0m 565us/step - loss: 0.3203 - val_loss: 0.3200\n",
      "Epoch 57/100\n",
      "\u001b[1m3368/3368\u001b[0m \u001b[32m━━━━━━━━━━━━━━━━━━━━\u001b[0m\u001b[37m\u001b[0m \u001b[1m2s\u001b[0m 567us/step - loss: 0.3215 - val_loss: 0.3199\n",
      "Epoch 58/100\n",
      "\u001b[1m3368/3368\u001b[0m \u001b[32m━━━━━━━━━━━━━━━━━━━━\u001b[0m\u001b[37m\u001b[0m \u001b[1m2s\u001b[0m 562us/step - loss: 0.3211 - val_loss: 0.3200\n",
      "Epoch 59/100\n",
      "\u001b[1m3368/3368\u001b[0m \u001b[32m━━━━━━━━━━━━━━━━━━━━\u001b[0m\u001b[37m\u001b[0m \u001b[1m2s\u001b[0m 567us/step - loss: 0.3213 - val_loss: 0.3200\n",
      "Epoch 60/100\n",
      "\u001b[1m3368/3368\u001b[0m \u001b[32m━━━━━━━━━━━━━━━━━━━━\u001b[0m\u001b[37m\u001b[0m \u001b[1m2s\u001b[0m 564us/step - loss: 0.3209 - val_loss: 0.3200\n",
      "Epoch 61/100\n",
      "\u001b[1m3368/3368\u001b[0m \u001b[32m━━━━━━━━━━━━━━━━━━━━\u001b[0m\u001b[37m\u001b[0m \u001b[1m2s\u001b[0m 567us/step - loss: 0.3206 - val_loss: 0.3200\n",
      "Epoch 62/100\n",
      "\u001b[1m3368/3368\u001b[0m \u001b[32m━━━━━━━━━━━━━━━━━━━━\u001b[0m\u001b[37m\u001b[0m \u001b[1m2s\u001b[0m 566us/step - loss: 0.3202 - val_loss: 0.3201\n",
      "Epoch 63/100\n",
      "\u001b[1m3368/3368\u001b[0m \u001b[32m━━━━━━━━━━━━━━━━━━━━\u001b[0m\u001b[37m\u001b[0m \u001b[1m2s\u001b[0m 562us/step - loss: 0.3228 - val_loss: 0.3200\n",
      "Epoch 64/100\n",
      "\u001b[1m3368/3368\u001b[0m \u001b[32m━━━━━━━━━━━━━━━━━━━━\u001b[0m\u001b[37m\u001b[0m \u001b[1m2s\u001b[0m 567us/step - loss: 0.3242 - val_loss: 0.3201\n",
      "Epoch 65/100\n",
      "\u001b[1m3368/3368\u001b[0m \u001b[32m━━━━━━━━━━━━━━━━━━━━\u001b[0m\u001b[37m\u001b[0m \u001b[1m2s\u001b[0m 561us/step - loss: 0.3213 - val_loss: 0.3200\n",
      "Epoch 66/100\n",
      "\u001b[1m3368/3368\u001b[0m \u001b[32m━━━━━━━━━━━━━━━━━━━━\u001b[0m\u001b[37m\u001b[0m \u001b[1m2s\u001b[0m 571us/step - loss: 0.3215 - val_loss: 0.3200\n",
      "Epoch 67/100\n",
      "\u001b[1m3368/3368\u001b[0m \u001b[32m━━━━━━━━━━━━━━━━━━━━\u001b[0m\u001b[37m\u001b[0m \u001b[1m2s\u001b[0m 570us/step - loss: 0.3207 - val_loss: 0.3200\n",
      "Epoch 68/100\n",
      "\u001b[1m3368/3368\u001b[0m \u001b[32m━━━━━━━━━━━━━━━━━━━━\u001b[0m\u001b[37m\u001b[0m \u001b[1m2s\u001b[0m 574us/step - loss: 0.3239 - val_loss: 0.3200\n",
      "Epoch 69/100\n",
      "\u001b[1m3368/3368\u001b[0m \u001b[32m━━━━━━━━━━━━━━━━━━━━\u001b[0m\u001b[37m\u001b[0m \u001b[1m2s\u001b[0m 569us/step - loss: 0.3215 - val_loss: 0.3200\n",
      "Epoch 70/100\n",
      "\u001b[1m3368/3368\u001b[0m \u001b[32m━━━━━━━━━━━━━━━━━━━━\u001b[0m\u001b[37m\u001b[0m \u001b[1m2s\u001b[0m 566us/step - loss: 0.3227 - val_loss: 0.3201\n",
      "Epoch 71/100\n",
      "\u001b[1m3368/3368\u001b[0m \u001b[32m━━━━━━━━━━━━━━━━━━━━\u001b[0m\u001b[37m\u001b[0m \u001b[1m2s\u001b[0m 564us/step - loss: 0.3218 - val_loss: 0.3200\n",
      "Epoch 72/100\n",
      "\u001b[1m3368/3368\u001b[0m \u001b[32m━━━━━━━━━━━━━━━━━━━━\u001b[0m\u001b[37m\u001b[0m \u001b[1m2s\u001b[0m 569us/step - loss: 0.3212 - val_loss: 0.3199\n",
      "Epoch 73/100\n",
      "\u001b[1m3368/3368\u001b[0m \u001b[32m━━━━━━━━━━━━━━━━━━━━\u001b[0m\u001b[37m\u001b[0m \u001b[1m2s\u001b[0m 567us/step - loss: 0.3223 - val_loss: 0.3200\n",
      "Epoch 74/100\n",
      "\u001b[1m3368/3368\u001b[0m \u001b[32m━━━━━━━━━━━━━━━━━━━━\u001b[0m\u001b[37m\u001b[0m \u001b[1m2s\u001b[0m 566us/step - loss: 0.3215 - val_loss: 0.3200\n",
      "Epoch 75/100\n",
      "\u001b[1m3368/3368\u001b[0m \u001b[32m━━━━━━━━━━━━━━━━━━━━\u001b[0m\u001b[37m\u001b[0m \u001b[1m2s\u001b[0m 571us/step - loss: 0.3201 - val_loss: 0.3200\n",
      "Epoch 76/100\n",
      "\u001b[1m3368/3368\u001b[0m \u001b[32m━━━━━━━━━━━━━━━━━━━━\u001b[0m\u001b[37m\u001b[0m \u001b[1m2s\u001b[0m 573us/step - loss: 0.3230 - val_loss: 0.3200\n",
      "Epoch 77/100\n",
      "\u001b[1m3368/3368\u001b[0m \u001b[32m━━━━━━━━━━━━━━━━━━━━\u001b[0m\u001b[37m\u001b[0m \u001b[1m2s\u001b[0m 568us/step - loss: 0.3208 - val_loss: 0.3200\n",
      "Epoch 78/100\n",
      "\u001b[1m3368/3368\u001b[0m \u001b[32m━━━━━━━━━━━━━━━━━━━━\u001b[0m\u001b[37m\u001b[0m \u001b[1m2s\u001b[0m 566us/step - loss: 0.3213 - val_loss: 0.3200\n",
      "Epoch 79/100\n",
      "\u001b[1m3368/3368\u001b[0m \u001b[32m━━━━━━━━━━━━━━━━━━━━\u001b[0m\u001b[37m\u001b[0m \u001b[1m2s\u001b[0m 566us/step - loss: 0.3193 - val_loss: 0.3200\n",
      "Epoch 80/100\n",
      "\u001b[1m3368/3368\u001b[0m \u001b[32m━━━━━━━━━━━━━━━━━━━━\u001b[0m\u001b[37m\u001b[0m \u001b[1m2s\u001b[0m 568us/step - loss: 0.3212 - val_loss: 0.3200\n",
      "Epoch 81/100\n",
      "\u001b[1m3368/3368\u001b[0m \u001b[32m━━━━━━━━━━━━━━━━━━━━\u001b[0m\u001b[37m\u001b[0m \u001b[1m2s\u001b[0m 567us/step - loss: 0.3226 - val_loss: 0.3199\n",
      "Epoch 82/100\n",
      "\u001b[1m3368/3368\u001b[0m \u001b[32m━━━━━━━━━━━━━━━━━━━━\u001b[0m\u001b[37m\u001b[0m \u001b[1m2s\u001b[0m 571us/step - loss: 0.3198 - val_loss: 0.3201\n",
      "Epoch 83/100\n",
      "\u001b[1m3368/3368\u001b[0m \u001b[32m━━━━━━━━━━━━━━━━━━━━\u001b[0m\u001b[37m\u001b[0m \u001b[1m2s\u001b[0m 565us/step - loss: 0.3231 - val_loss: 0.3200\n",
      "Epoch 84/100\n",
      "\u001b[1m3368/3368\u001b[0m \u001b[32m━━━━━━━━━━━━━━━━━━━━\u001b[0m\u001b[37m\u001b[0m \u001b[1m2s\u001b[0m 568us/step - loss: 0.3226 - val_loss: 0.3200\n",
      "Epoch 85/100\n",
      "\u001b[1m3368/3368\u001b[0m \u001b[32m━━━━━━━━━━━━━━━━━━━━\u001b[0m\u001b[37m\u001b[0m \u001b[1m2s\u001b[0m 571us/step - loss: 0.3206 - val_loss: 0.3200\n",
      "Epoch 86/100\n",
      "\u001b[1m3368/3368\u001b[0m \u001b[32m━━━━━━━━━━━━━━━━━━━━\u001b[0m\u001b[37m\u001b[0m \u001b[1m2s\u001b[0m 566us/step - loss: 0.3205 - val_loss: 0.3200\n",
      "Epoch 87/100\n",
      "\u001b[1m3368/3368\u001b[0m \u001b[32m━━━━━━━━━━━━━━━━━━━━\u001b[0m\u001b[37m\u001b[0m \u001b[1m2s\u001b[0m 572us/step - loss: 0.3205 - val_loss: 0.3200\n",
      "Epoch 88/100\n",
      "\u001b[1m3368/3368\u001b[0m \u001b[32m━━━━━━━━━━━━━━━━━━━━\u001b[0m\u001b[37m\u001b[0m \u001b[1m2s\u001b[0m 565us/step - loss: 0.3227 - val_loss: 0.3200\n",
      "Epoch 89/100\n",
      "\u001b[1m3368/3368\u001b[0m \u001b[32m━━━━━━━━━━━━━━━━━━━━\u001b[0m\u001b[37m\u001b[0m \u001b[1m2s\u001b[0m 571us/step - loss: 0.3211 - val_loss: 0.3200\n",
      "Epoch 90/100\n",
      "\u001b[1m3368/3368\u001b[0m \u001b[32m━━━━━━━━━━━━━━━━━━━━\u001b[0m\u001b[37m\u001b[0m \u001b[1m2s\u001b[0m 569us/step - loss: 0.3214 - val_loss: 0.3201\n",
      "Epoch 91/100\n",
      "\u001b[1m3368/3368\u001b[0m \u001b[32m━━━━━━━━━━━━━━━━━━━━\u001b[0m\u001b[37m\u001b[0m \u001b[1m2s\u001b[0m 569us/step - loss: 0.3217 - val_loss: 0.3200\n",
      "Epoch 92/100\n",
      "\u001b[1m3368/3368\u001b[0m \u001b[32m━━━━━━━━━━━━━━━━━━━━\u001b[0m\u001b[37m\u001b[0m \u001b[1m2s\u001b[0m 568us/step - loss: 0.3226 - val_loss: 0.3200\n",
      "Epoch 93/100\n",
      "\u001b[1m3368/3368\u001b[0m \u001b[32m━━━━━━━━━━━━━━━━━━━━\u001b[0m\u001b[37m\u001b[0m \u001b[1m2s\u001b[0m 575us/step - loss: 0.3220 - val_loss: 0.3199\n",
      "Epoch 94/100\n",
      "\u001b[1m3368/3368\u001b[0m \u001b[32m━━━━━━━━━━━━━━━━━━━━\u001b[0m\u001b[37m\u001b[0m \u001b[1m2s\u001b[0m 566us/step - loss: 0.3231 - val_loss: 0.3200\n",
      "Epoch 95/100\n",
      "\u001b[1m3368/3368\u001b[0m \u001b[32m━━━━━━━━━━━━━━━━━━━━\u001b[0m\u001b[37m\u001b[0m \u001b[1m2s\u001b[0m 570us/step - loss: 0.3226 - val_loss: 0.3200\n",
      "Epoch 96/100\n",
      "\u001b[1m3368/3368\u001b[0m \u001b[32m━━━━━━━━━━━━━━━━━━━━\u001b[0m\u001b[37m\u001b[0m \u001b[1m2s\u001b[0m 570us/step - loss: 0.3213 - val_loss: 0.3200\n",
      "Epoch 97/100\n",
      "\u001b[1m3368/3368\u001b[0m \u001b[32m━━━━━━━━━━━━━━━━━━━━\u001b[0m\u001b[37m\u001b[0m \u001b[1m2s\u001b[0m 570us/step - loss: 0.3224 - val_loss: 0.3200\n",
      "Epoch 98/100\n",
      "\u001b[1m3368/3368\u001b[0m \u001b[32m━━━━━━━━━━━━━━━━━━━━\u001b[0m\u001b[37m\u001b[0m \u001b[1m2s\u001b[0m 567us/step - loss: 0.3224 - val_loss: 0.3200\n",
      "Epoch 99/100\n",
      "\u001b[1m3368/3368\u001b[0m \u001b[32m━━━━━━━━━━━━━━━━━━━━\u001b[0m\u001b[37m\u001b[0m \u001b[1m2s\u001b[0m 571us/step - loss: 0.3218 - val_loss: 0.3201\n",
      "Epoch 100/100\n",
      "\u001b[1m3368/3368\u001b[0m \u001b[32m━━━━━━━━━━━━━━━━━━━━\u001b[0m\u001b[37m\u001b[0m \u001b[1m2s\u001b[0m 566us/step - loss: 0.3211 - val_loss: 0.3200\n"
     ]
    },
    {
     "data": {
      "text/plain": [
       "<keras.src.callbacks.history.History at 0x3508c9990>"
      ]
     },
     "execution_count": 67,
     "metadata": {},
     "output_type": "execute_result"
    }
   ],
   "source": [
    "# Filter the normal data for training the autoencoder\n",
    "normal_label = le_attack.transform(['normal'])[0]\n",
    "X_train_normal = X_train[y_train == normal_label]\n",
    "\n",
    "# Train the autoencoder\n",
    "autoencoder.fit(X_train_normal, X_train_normal, epochs=100, batch_size=16, validation_split=0.2)\n"
   ]
  },
  {
   "cell_type": "code",
   "execution_count": 68,
   "metadata": {},
   "outputs": [
    {
     "name": "stdout",
     "output_type": "stream",
     "text": [
      "\u001b[1m705/705\u001b[0m \u001b[32m━━━━━━━━━━━━━━━━━━━━\u001b[0m\u001b[37m\u001b[0m \u001b[1m0s\u001b[0m 297us/step\n",
      "Accuracy: 0.46371540099361247\n",
      "Precision: 0.8319928507596068\n",
      "Recall: 0.07254733889191928\n",
      "F1 Score: 0.13345756880733944\n",
      "Confusion Matrix:\n",
      "[[  931 11902]\n",
      " [  188  9523]]\n",
      "Classification Report:\n",
      "              precision    recall  f1-score   support\n",
      "\n",
      "      attack       0.83      0.07      0.13     12833\n",
      "      normal       0.44      0.98      0.61      9711\n",
      "\n",
      "    accuracy                           0.46     22544\n",
      "   macro avg       0.64      0.53      0.37     22544\n",
      "weighted avg       0.67      0.46      0.34     22544\n",
      "\n"
     ]
    }
   ],
   "source": [
    "# Calculate reconstruction error on the test set\n",
    "reconstructions = autoencoder.predict(X_test)\n",
    "reconstruction_error = tf.keras.losses.mse(X_test, reconstructions)\n",
    "\n",
    "# Set a threshold for anomaly detection\n",
    "threshold = np.percentile(reconstruction_error, 95)  # Example: 95th percentile\n",
    "anomalies = reconstruction_error > threshold\n",
    "\n",
    "# Decode labels for evaluation\n",
    "y_test_decoded = le_attack.inverse_transform(y_test)\n",
    "anomalies_decoded = ['attack' if x else 'normal' for x in anomalies]\n",
    "\n",
    "# Calculate evaluation metrics\n",
    "accuracy = accuracy_score(y_test_decoded, anomalies_decoded)\n",
    "precision = precision_score(y_test_decoded, anomalies_decoded, pos_label='attack', average='binary', zero_division=1)\n",
    "recall = recall_score(y_test_decoded, anomalies_decoded, pos_label='attack', average='binary', zero_division=1)\n",
    "f1 = f1_score(y_test_decoded, anomalies_decoded, pos_label='attack', average='binary', zero_division=1)\n",
    "conf_matrix = confusion_matrix(y_test_decoded, anomalies_decoded)\n",
    "class_report = classification_report(y_test_decoded, anomalies_decoded, zero_division=1)\n",
    "\n",
    "# Print evaluation metrics\n",
    "print(f'Accuracy: {accuracy}')\n",
    "print(f'Precision: {precision}')\n",
    "print(f'Recall: {recall}')\n",
    "print(f'F1 Score: {f1}')\n",
    "print(f'Confusion Matrix:\\n{conf_matrix}')\n",
    "print(f'Classification Report:\\n{class_report}')"
   ]
  },
  {
   "cell_type": "code",
   "execution_count": null,
   "metadata": {},
   "outputs": [],
   "source": [
    "# Function to plot confusion matrix\n",
    "def plot_confusion_matrix(conf_matrix, model_name):\n",
    "    plt.figure(figsize=(8, 6))\n",
    "    sns.heatmap(conf_matrix, annot=True, fmt='d', cmap='Blues')\n",
    "    plt.title(f'Confusion Matrix for {model_name}')\n",
    "    plt.xlabel('Predicted')\n",
    "    plt.ylabel('Actual')\n",
    "    plt.show()\n",
    "\n",
    "# Plot confusion matrix\n",
    "plot_confusion_matrix(conf_matrix, 'Autoencoder')"
   ]
  }
 ],
 "metadata": {
  "kernelspec": {
   "display_name": "watchtower_env",
   "language": "python",
   "name": "python3"
  },
  "language_info": {
   "codemirror_mode": {
    "name": "ipython",
    "version": 3
   },
   "file_extension": ".py",
   "mimetype": "text/x-python",
   "name": "python",
   "nbconvert_exporter": "python",
   "pygments_lexer": "ipython3",
   "version": "3.10.14"
  }
 },
 "nbformat": 4,
 "nbformat_minor": 2
}
